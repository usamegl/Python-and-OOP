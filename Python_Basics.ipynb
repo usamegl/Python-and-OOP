{
 "cells": [
  {
   "cell_type": "markdown",
   "id": "7f56f8fe",
   "metadata": {},
   "source": [
    "### Let's Learn Python! :)"
   ]
  },
  {
   "cell_type": "code",
   "execution_count": 1,
   "id": "605fe3cd",
   "metadata": {},
   "outputs": [
    {
     "name": "stdout",
     "output_type": "stream",
     "text": [
      "Üsame Gül\n"
     ]
    }
   ],
   "source": [
    "print(\"Üsame Gül\")"
   ]
  },
  {
   "cell_type": "code",
   "execution_count": 4,
   "id": "d69f5e7d",
   "metadata": {},
   "outputs": [
    {
     "name": "stdout",
     "output_type": "stream",
     "text": [
      "İsminiz Nedir?Üsame\n"
     ]
    },
    {
     "data": {
      "text/plain": [
       "'Üsame'"
      ]
     },
     "execution_count": 4,
     "metadata": {},
     "output_type": "execute_result"
    }
   ],
   "source": [
    "input(\"İsminiz Nedir?\")"
   ]
  },
  {
   "cell_type": "markdown",
   "id": "2a6dc045",
   "metadata": {},
   "source": [
    "### Değişkenler ve Sabitler(Variables and Constants)"
   ]
  },
  {
   "cell_type": "code",
   "execution_count": 6,
   "id": "4ba88158",
   "metadata": {},
   "outputs": [
    {
     "name": "stdout",
     "output_type": "stream",
     "text": [
      "Üsame\n",
      "Gül\n"
     ]
    }
   ],
   "source": [
    "isim=\"Üsame\"\n",
    "soyisim=\"Gül\"\n",
    "print(isim)\n",
    "print(soyisim)"
   ]
  },
  {
   "cell_type": "markdown",
   "id": "025a8604",
   "metadata": {},
   "source": [
    "Sabitler büyük harfler ile tanımlanır."
   ]
  },
  {
   "cell_type": "code",
   "execution_count": null,
   "id": "ae5e3694",
   "metadata": {},
   "outputs": [],
   "source": [
    "PI=3.14 "
   ]
  },
  {
   "cell_type": "code",
   "execution_count": 7,
   "id": "f43aedee",
   "metadata": {},
   "outputs": [],
   "source": [
    "isim=\"Mustafa\""
   ]
  },
  {
   "cell_type": "code",
   "execution_count": 8,
   "id": "4fb9c434",
   "metadata": {},
   "outputs": [
    {
     "name": "stdout",
     "output_type": "stream",
     "text": [
      "Mustafa\n"
     ]
    }
   ],
   "source": [
    "print(isim)"
   ]
  },
  {
   "cell_type": "markdown",
   "id": "e6b7d27f",
   "metadata": {},
   "source": [
    "Değişkenler , değişebilir. Sabitler , sabittir değişmez."
   ]
  },
  {
   "cell_type": "code",
   "execution_count": 11,
   "id": "9bf0083e",
   "metadata": {},
   "outputs": [],
   "source": [
    "isim,soyisim=\"Üsame\" ,\"Gül\""
   ]
  },
  {
   "cell_type": "code",
   "execution_count": 12,
   "id": "411115c0",
   "metadata": {},
   "outputs": [],
   "source": [
    "isim,soyisim=soyisim,isim"
   ]
  },
  {
   "cell_type": "code",
   "execution_count": 13,
   "id": "ddc61517",
   "metadata": {},
   "outputs": [
    {
     "name": "stdout",
     "output_type": "stream",
     "text": [
      "Gül\n"
     ]
    }
   ],
   "source": [
    "print(isim)"
   ]
  },
  {
   "cell_type": "markdown",
   "id": "d3a28b4f",
   "metadata": {},
   "source": [
    "### Data Types(Veri Tipleri)"
   ]
  },
  {
   "cell_type": "code",
   "execution_count": null,
   "id": "303d1fdc",
   "metadata": {},
   "outputs": [],
   "source": [
    "-Numbers(Sayılar)\n",
    "-String(Karakter dizileri)\n",
    "-Boolean(True and False)\n",
    "-List(Listeler)\n",
    "-Tuple(Demetler)\n",
    "-Dictionary(Sözlükler)\n",
    "-Set(Kümeler)"
   ]
  },
  {
   "cell_type": "markdown",
   "id": "4d33e8de",
   "metadata": {},
   "source": [
    "#### Numbers\n"
   ]
  },
  {
   "cell_type": "code",
   "execution_count": null,
   "id": "46d49aa0",
   "metadata": {},
   "outputs": [],
   "source": [
    "-integer 5\n",
    "-float   5.0 -5.1\n",
    "-long    51985498841L\n",
    "-complex 3.14j"
   ]
  },
  {
   "cell_type": "code",
   "execution_count": 14,
   "id": "90a9c267",
   "metadata": {},
   "outputs": [
    {
     "data": {
      "text/plain": [
       "0"
      ]
     },
     "execution_count": 14,
     "metadata": {},
     "output_type": "execute_result"
    }
   ],
   "source": [
    "40%8"
   ]
  },
  {
   "cell_type": "code",
   "execution_count": 15,
   "id": "84c5acff",
   "metadata": {},
   "outputs": [
    {
     "data": {
      "text/plain": [
       "64"
      ]
     },
     "execution_count": 15,
     "metadata": {},
     "output_type": "execute_result"
    }
   ],
   "source": [
    "4**3"
   ]
  },
  {
   "cell_type": "code",
   "execution_count": 16,
   "id": "0be307a8",
   "metadata": {},
   "outputs": [
    {
     "data": {
      "text/plain": [
       "16"
      ]
     },
     "execution_count": 16,
     "metadata": {},
     "output_type": "execute_result"
    }
   ],
   "source": [
    "4**2"
   ]
  },
  {
   "cell_type": "code",
   "execution_count": 17,
   "id": "979dc7f1",
   "metadata": {},
   "outputs": [
    {
     "data": {
      "text/plain": [
       "6.666666666666667"
      ]
     },
     "execution_count": 17,
     "metadata": {},
     "output_type": "execute_result"
    }
   ],
   "source": [
    "40/6"
   ]
  },
  {
   "cell_type": "code",
   "execution_count": 18,
   "id": "68fa9de2",
   "metadata": {},
   "outputs": [
    {
     "data": {
      "text/plain": [
       "6"
      ]
     },
     "execution_count": 18,
     "metadata": {},
     "output_type": "execute_result"
    }
   ],
   "source": [
    "40//6"
   ]
  },
  {
   "cell_type": "code",
   "execution_count": 19,
   "id": "09c5795a",
   "metadata": {},
   "outputs": [
    {
     "data": {
      "text/plain": [
       "5"
      ]
     },
     "execution_count": 19,
     "metadata": {},
     "output_type": "execute_result"
    }
   ],
   "source": [
    "round(5.3)"
   ]
  },
  {
   "cell_type": "code",
   "execution_count": 20,
   "id": "38bfd511",
   "metadata": {},
   "outputs": [
    {
     "data": {
      "text/plain": [
       "6"
      ]
     },
     "execution_count": 20,
     "metadata": {},
     "output_type": "execute_result"
    }
   ],
   "source": [
    "round(5.51)"
   ]
  },
  {
   "cell_type": "markdown",
   "id": "669afe5e",
   "metadata": {},
   "source": [
    "#### Strings"
   ]
  },
  {
   "cell_type": "code",
   "execution_count": 21,
   "id": "65604aa7",
   "metadata": {},
   "outputs": [],
   "source": [
    "isim=\"Üsame Gül\""
   ]
  },
  {
   "cell_type": "code",
   "execution_count": 22,
   "id": "97fb6ee8",
   "metadata": {},
   "outputs": [
    {
     "data": {
      "text/plain": [
       "'Ü'"
      ]
     },
     "execution_count": 22,
     "metadata": {},
     "output_type": "execute_result"
    }
   ],
   "source": [
    "isim[0]"
   ]
  },
  {
   "cell_type": "code",
   "execution_count": 23,
   "id": "ba020514",
   "metadata": {},
   "outputs": [
    {
     "data": {
      "text/plain": [
       "'l'"
      ]
     },
     "execution_count": 23,
     "metadata": {},
     "output_type": "execute_result"
    }
   ],
   "source": [
    "isim[-1]"
   ]
  },
  {
   "cell_type": "code",
   "execution_count": 25,
   "id": "505adf7f",
   "metadata": {},
   "outputs": [
    {
     "data": {
      "text/plain": [
       "'Üsame'"
      ]
     },
     "execution_count": 25,
     "metadata": {},
     "output_type": "execute_result"
    }
   ],
   "source": [
    "isim[0:5]"
   ]
  },
  {
   "cell_type": "code",
   "execution_count": 26,
   "id": "40f69e0f",
   "metadata": {},
   "outputs": [
    {
     "data": {
      "text/plain": [
       "'Üae'"
      ]
     },
     "execution_count": 26,
     "metadata": {},
     "output_type": "execute_result"
    }
   ],
   "source": [
    "isim[0:6:2]"
   ]
  },
  {
   "cell_type": "code",
   "execution_count": 27,
   "id": "f7704458",
   "metadata": {},
   "outputs": [
    {
     "ename": "NameError",
     "evalue": "name 'c' is not defined",
     "output_type": "error",
     "traceback": [
      "\u001b[1;31m---------------------------------------------------------------------------\u001b[0m",
      "\u001b[1;31mNameError\u001b[0m                                 Traceback (most recent call last)",
      "\u001b[1;32m~\\AppData\\Local\\Temp/ipykernel_21108/2136122086.py\u001b[0m in \u001b[0;36m<module>\u001b[1;34m\u001b[0m\n\u001b[1;32m----> 1\u001b[1;33m \u001b[0misim\u001b[0m\u001b[1;33m[\u001b[0m\u001b[1;36m3\u001b[0m\u001b[1;33m]\u001b[0m\u001b[1;33m=\u001b[0m\u001b[0mc\u001b[0m\u001b[1;33m\u001b[0m\u001b[1;33m\u001b[0m\u001b[0m\n\u001b[0m",
      "\u001b[1;31mNameError\u001b[0m: name 'c' is not defined"
     ]
    }
   ],
   "source": [
    "isim[3]=c"
   ]
  },
  {
   "cell_type": "code",
   "execution_count": null,
   "id": "d99014c5",
   "metadata": {},
   "outputs": [],
   "source": [
    "\"Türkiye'nin en büyük şehri istanbuldur\" \n",
    "    "
   ]
  },
  {
   "cell_type": "code",
   "execution_count": 29,
   "id": "2576e84b",
   "metadata": {},
   "outputs": [
    {
     "name": "stdout",
     "output_type": "stream",
     "text": [
      "Türkiye'nin en büyük\n",
      " şehri \n",
      "istanbul\n"
     ]
    }
   ],
   "source": [
    "print(\"Türkiye'nin en büyük\\n şehri \\nistanbul\")"
   ]
  },
  {
   "cell_type": "code",
   "execution_count": 30,
   "id": "bc806577",
   "metadata": {},
   "outputs": [
    {
     "name": "stdout",
     "output_type": "stream",
     "text": [
      "Türkiye'\tnin en büyük\n",
      " şehri \n",
      "istanbul\n"
     ]
    }
   ],
   "source": [
    "print(\"Türkiye'\\tnin en büyük\\n şehri \\nistanbul\")"
   ]
  },
  {
   "cell_type": "code",
   "execution_count": 32,
   "id": "6bfc2b2a",
   "metadata": {},
   "outputs": [
    {
     "data": {
      "text/plain": [
       "'üsame gül'"
      ]
     },
     "execution_count": 32,
     "metadata": {},
     "output_type": "execute_result"
    }
   ],
   "source": [
    "\"üsame\"+\" gül\""
   ]
  },
  {
   "cell_type": "code",
   "execution_count": 34,
   "id": "f13b8638",
   "metadata": {},
   "outputs": [],
   "source": [
    "x=\"üsame\""
   ]
  },
  {
   "cell_type": "code",
   "execution_count": 35,
   "id": "7f59b2f4",
   "metadata": {},
   "outputs": [
    {
     "data": {
      "text/plain": [
       "'ÜSAME'"
      ]
     },
     "execution_count": 35,
     "metadata": {},
     "output_type": "execute_result"
    }
   ],
   "source": [
    "x.upper()"
   ]
  },
  {
   "cell_type": "code",
   "execution_count": 36,
   "id": "d5d7d594",
   "metadata": {},
   "outputs": [
    {
     "data": {
      "text/plain": [
       "'üsame'"
      ]
     },
     "execution_count": 36,
     "metadata": {},
     "output_type": "execute_result"
    }
   ],
   "source": [
    "x.lower()"
   ]
  },
  {
   "cell_type": "code",
   "execution_count": 37,
   "id": "e15bf557",
   "metadata": {},
   "outputs": [
    {
     "data": {
      "text/plain": [
       "'Üsame'"
      ]
     },
     "execution_count": 37,
     "metadata": {},
     "output_type": "execute_result"
    }
   ],
   "source": [
    "x.capitalize()"
   ]
  },
  {
   "cell_type": "code",
   "execution_count": 40,
   "id": "09334c2a",
   "metadata": {},
   "outputs": [
    {
     "data": {
      "text/plain": [
       "1"
      ]
     },
     "execution_count": 40,
     "metadata": {},
     "output_type": "execute_result"
    }
   ],
   "source": [
    "x.count(\"e\")"
   ]
  },
  {
   "cell_type": "code",
   "execution_count": 41,
   "id": "5c6dc4a3",
   "metadata": {},
   "outputs": [
    {
     "data": {
      "text/plain": [
       "0"
      ]
     },
     "execution_count": 41,
     "metadata": {},
     "output_type": "execute_result"
    }
   ],
   "source": [
    "x.find(\"ü\")"
   ]
  },
  {
   "cell_type": "code",
   "execution_count": 42,
   "id": "5c418923",
   "metadata": {},
   "outputs": [
    {
     "data": {
      "text/plain": [
       "2"
      ]
     },
     "execution_count": 42,
     "metadata": {},
     "output_type": "execute_result"
    }
   ],
   "source": [
    "x.index(\"a\")"
   ]
  },
  {
   "cell_type": "code",
   "execution_count": 54,
   "id": "91781c3e",
   "metadata": {},
   "outputs": [],
   "source": [
    "yeni=\"      Üsame Gül   \""
   ]
  },
  {
   "cell_type": "code",
   "execution_count": 55,
   "id": "93f33b6e",
   "metadata": {},
   "outputs": [
    {
     "data": {
      "text/plain": [
       "'Üsame Gül   '"
      ]
     },
     "execution_count": 55,
     "metadata": {},
     "output_type": "execute_result"
    }
   ],
   "source": [
    "yeni.lstrip()"
   ]
  },
  {
   "cell_type": "code",
   "execution_count": 56,
   "id": "721d8acb",
   "metadata": {},
   "outputs": [
    {
     "data": {
      "text/plain": [
       "'      Üsame Gül'"
      ]
     },
     "execution_count": 56,
     "metadata": {},
     "output_type": "execute_result"
    }
   ],
   "source": [
    "yeni.rstrip()"
   ]
  },
  {
   "cell_type": "code",
   "execution_count": 57,
   "id": "72670011",
   "metadata": {},
   "outputs": [
    {
     "data": {
      "text/plain": [
       "'Üsame Gül'"
      ]
     },
     "execution_count": 57,
     "metadata": {},
     "output_type": "execute_result"
    }
   ],
   "source": [
    "yeni.strip()"
   ]
  },
  {
   "cell_type": "code",
   "execution_count": 58,
   "id": "2f005d08",
   "metadata": {},
   "outputs": [
    {
     "data": {
      "text/plain": [
       "'      Üsame gl   '"
      ]
     },
     "execution_count": 58,
     "metadata": {},
     "output_type": "execute_result"
    }
   ],
   "source": [
    "yeni.replace(\"Gül\",\"gl\")"
   ]
  },
  {
   "cell_type": "code",
   "execution_count": 59,
   "id": "d0cc2ebc",
   "metadata": {},
   "outputs": [],
   "source": [
    "isimm=\"Üsame\"\n",
    "soyisimm=\"Gül\""
   ]
  },
  {
   "cell_type": "code",
   "execution_count": 60,
   "id": "14cec89f",
   "metadata": {},
   "outputs": [
    {
     "name": "stdout",
     "output_type": "stream",
     "text": [
      "Benim ismim Üsame soyadım Gül\n"
     ]
    }
   ],
   "source": [
    "print(\"Benim ismim {} soyadım {}\".format(isimm,soyisimm))"
   ]
  },
  {
   "cell_type": "markdown",
   "id": "e27cdfad",
   "metadata": {},
   "source": [
    "#### Boolean Data Type"
   ]
  },
  {
   "cell_type": "code",
   "execution_count": 61,
   "id": "038a32fb",
   "metadata": {},
   "outputs": [
    {
     "data": {
      "text/plain": [
       "True"
      ]
     },
     "execution_count": 61,
     "metadata": {},
     "output_type": "execute_result"
    }
   ],
   "source": [
    "5>4"
   ]
  },
  {
   "cell_type": "code",
   "execution_count": 62,
   "id": "f06122e6",
   "metadata": {},
   "outputs": [
    {
     "data": {
      "text/plain": [
       "True"
      ]
     },
     "execution_count": 62,
     "metadata": {},
     "output_type": "execute_result"
    }
   ],
   "source": [
    "5==5"
   ]
  },
  {
   "cell_type": "code",
   "execution_count": 64,
   "id": "d0bb8177",
   "metadata": {},
   "outputs": [
    {
     "data": {
      "text/plain": [
       "True"
      ]
     },
     "execution_count": 64,
     "metadata": {},
     "output_type": "execute_result"
    }
   ],
   "source": [
    "5 !=3"
   ]
  },
  {
   "cell_type": "code",
   "execution_count": 65,
   "id": "6c41e18a",
   "metadata": {},
   "outputs": [
    {
     "data": {
      "text/plain": [
       "False"
      ]
     },
     "execution_count": 65,
     "metadata": {},
     "output_type": "execute_result"
    }
   ],
   "source": [
    "7>=8"
   ]
  },
  {
   "cell_type": "code",
   "execution_count": 66,
   "id": "cc63271e",
   "metadata": {},
   "outputs": [
    {
     "data": {
      "text/plain": [
       "True"
      ]
     },
     "execution_count": 66,
     "metadata": {},
     "output_type": "execute_result"
    }
   ],
   "source": [
    "7>=7"
   ]
  },
  {
   "cell_type": "markdown",
   "id": "b4c14eb6",
   "metadata": {},
   "source": [
    "#### Lists (Listeler)"
   ]
  },
  {
   "cell_type": "code",
   "execution_count": 67,
   "id": "ec4e65d2",
   "metadata": {},
   "outputs": [],
   "source": [
    "insan=[\"Üsame\",\"Gül\",21,\"Python\"]"
   ]
  },
  {
   "cell_type": "code",
   "execution_count": 68,
   "id": "c7c794f4",
   "metadata": {},
   "outputs": [
    {
     "data": {
      "text/plain": [
       "['Üsame', 'Gül', 21, 'Python']"
      ]
     },
     "execution_count": 68,
     "metadata": {},
     "output_type": "execute_result"
    }
   ],
   "source": [
    "insan"
   ]
  },
  {
   "cell_type": "code",
   "execution_count": 69,
   "id": "8bc25765",
   "metadata": {},
   "outputs": [
    {
     "data": {
      "text/plain": [
       "'Python'"
      ]
     },
     "execution_count": 69,
     "metadata": {},
     "output_type": "execute_result"
    }
   ],
   "source": [
    "insan[3]"
   ]
  },
  {
   "cell_type": "code",
   "execution_count": 70,
   "id": "fe6b16af",
   "metadata": {},
   "outputs": [
    {
     "data": {
      "text/plain": [
       "['Üsame', 21]"
      ]
     },
     "execution_count": 70,
     "metadata": {},
     "output_type": "execute_result"
    }
   ],
   "source": [
    "insan[0:4:2]"
   ]
  },
  {
   "cell_type": "markdown",
   "id": "041f121d",
   "metadata": {},
   "source": [
    "Listelerde stringler aksine parça parça değişiklikler yapılabilir.\n"
   ]
  },
  {
   "cell_type": "code",
   "execution_count": 71,
   "id": "b783b64c",
   "metadata": {},
   "outputs": [],
   "source": [
    "insan[2]=\"Gl\""
   ]
  },
  {
   "cell_type": "code",
   "execution_count": 72,
   "id": "c8538c1a",
   "metadata": {},
   "outputs": [
    {
     "data": {
      "text/plain": [
       "['Üsame', 'Gül', 'Gl', 'Python']"
      ]
     },
     "execution_count": 72,
     "metadata": {},
     "output_type": "execute_result"
    }
   ],
   "source": [
    "insan"
   ]
  },
  {
   "cell_type": "code",
   "execution_count": 75,
   "id": "0f8e260e",
   "metadata": {},
   "outputs": [],
   "source": [
    "insanlar=[[\"Ali \" , \"Yılmaz\"],[\"Mustafa\",\"Göz\"]]"
   ]
  },
  {
   "cell_type": "code",
   "execution_count": 76,
   "id": "e1b714d6",
   "metadata": {},
   "outputs": [
    {
     "data": {
      "text/plain": [
       "[['Ali ', 'Yılmaz'], ['Mustafa', 'Göz']]"
      ]
     },
     "execution_count": 76,
     "metadata": {},
     "output_type": "execute_result"
    }
   ],
   "source": [
    "insanlar"
   ]
  },
  {
   "cell_type": "code",
   "execution_count": 77,
   "id": "6b98c85a",
   "metadata": {},
   "outputs": [
    {
     "data": {
      "text/plain": [
       "['Ali ', 'Yılmaz']"
      ]
     },
     "execution_count": 77,
     "metadata": {},
     "output_type": "execute_result"
    }
   ],
   "source": [
    "insanlar[0]"
   ]
  },
  {
   "cell_type": "code",
   "execution_count": 78,
   "id": "58bbeb46",
   "metadata": {},
   "outputs": [
    {
     "data": {
      "text/plain": [
       "'Yılmaz'"
      ]
     },
     "execution_count": 78,
     "metadata": {},
     "output_type": "execute_result"
    }
   ],
   "source": [
    "insanlar[0][1]"
   ]
  },
  {
   "cell_type": "code",
   "execution_count": 79,
   "id": "fb1cd0cc",
   "metadata": {},
   "outputs": [
    {
     "data": {
      "text/plain": [
       "'Mustafa'"
      ]
     },
     "execution_count": 79,
     "metadata": {},
     "output_type": "execute_result"
    }
   ],
   "source": [
    "insanlar[1][0]"
   ]
  },
  {
   "cell_type": "code",
   "execution_count": 80,
   "id": "0915e74d",
   "metadata": {},
   "outputs": [
    {
     "data": {
      "text/plain": [
       "4"
      ]
     },
     "execution_count": 80,
     "metadata": {},
     "output_type": "execute_result"
    }
   ],
   "source": [
    "len(insan)"
   ]
  },
  {
   "cell_type": "code",
   "execution_count": 81,
   "id": "eac87e2e",
   "metadata": {},
   "outputs": [],
   "source": [
    "sayilar=[0,1,12,3,34,45,345,364,432,56,54]"
   ]
  },
  {
   "cell_type": "code",
   "execution_count": 82,
   "id": "2d4a8f2a",
   "metadata": {},
   "outputs": [
    {
     "data": {
      "text/plain": [
       "11"
      ]
     },
     "execution_count": 82,
     "metadata": {},
     "output_type": "execute_result"
    }
   ],
   "source": [
    "len(sayilar)"
   ]
  },
  {
   "cell_type": "code",
   "execution_count": 83,
   "id": "bb02344e",
   "metadata": {},
   "outputs": [
    {
     "data": {
      "text/plain": [
       "54"
      ]
     },
     "execution_count": 83,
     "metadata": {},
     "output_type": "execute_result"
    }
   ],
   "source": [
    "sayilar[-1]"
   ]
  },
  {
   "cell_type": "code",
   "execution_count": 84,
   "id": "680a7ff1",
   "metadata": {},
   "outputs": [
    {
     "data": {
      "text/plain": [
       "[34, 345, 432]"
      ]
     },
     "execution_count": 84,
     "metadata": {},
     "output_type": "execute_result"
    }
   ],
   "source": [
    "sayilar[-7:-2:2]"
   ]
  },
  {
   "cell_type": "code",
   "execution_count": 85,
   "id": "09c23a20",
   "metadata": {},
   "outputs": [],
   "source": [
    "sayilar.append(100)"
   ]
  },
  {
   "cell_type": "code",
   "execution_count": 86,
   "id": "510a0c4c",
   "metadata": {},
   "outputs": [
    {
     "data": {
      "text/plain": [
       "[0, 1, 12, 3, 34, 45, 345, 364, 432, 56, 54, 100]"
      ]
     },
     "execution_count": 86,
     "metadata": {},
     "output_type": "execute_result"
    }
   ],
   "source": [
    "sayilar"
   ]
  },
  {
   "cell_type": "code",
   "execution_count": 87,
   "id": "f4a62166",
   "metadata": {},
   "outputs": [],
   "source": [
    "sayilar.remove(34)"
   ]
  },
  {
   "cell_type": "code",
   "execution_count": 88,
   "id": "54564f32",
   "metadata": {},
   "outputs": [
    {
     "data": {
      "text/plain": [
       "[0, 1, 12, 3, 45, 345, 364, 432, 56, 54, 100]"
      ]
     },
     "execution_count": 88,
     "metadata": {},
     "output_type": "execute_result"
    }
   ],
   "source": [
    "sayilar"
   ]
  },
  {
   "cell_type": "code",
   "execution_count": 89,
   "id": "5bc84e30",
   "metadata": {},
   "outputs": [
    {
     "data": {
      "text/plain": [
       "100"
      ]
     },
     "execution_count": 89,
     "metadata": {},
     "output_type": "execute_result"
    }
   ],
   "source": [
    "sayilar.pop()"
   ]
  },
  {
   "cell_type": "code",
   "execution_count": 90,
   "id": "9816ded8",
   "metadata": {},
   "outputs": [
    {
     "data": {
      "text/plain": [
       "54"
      ]
     },
     "execution_count": 90,
     "metadata": {},
     "output_type": "execute_result"
    }
   ],
   "source": [
    "sayilar.pop()"
   ]
  },
  {
   "cell_type": "code",
   "execution_count": 92,
   "id": "2a74fdf0",
   "metadata": {},
   "outputs": [
    {
     "data": {
      "text/plain": [
       "[0, 1, 12, 3, 45, 345, 364, 432, 56]"
      ]
     },
     "execution_count": 92,
     "metadata": {},
     "output_type": "execute_result"
    }
   ],
   "source": [
    "sayilar"
   ]
  },
  {
   "cell_type": "code",
   "execution_count": 93,
   "id": "ccf2eeec",
   "metadata": {},
   "outputs": [
    {
     "data": {
      "text/plain": [
       "3"
      ]
     },
     "execution_count": 93,
     "metadata": {},
     "output_type": "execute_result"
    }
   ],
   "source": [
    "sayilar.pop(3)"
   ]
  },
  {
   "cell_type": "code",
   "execution_count": 94,
   "id": "994e7faa",
   "metadata": {},
   "outputs": [],
   "source": [
    "a=[1,2,3,4]\n",
    "b=[4,5,6,75]"
   ]
  },
  {
   "cell_type": "code",
   "execution_count": 95,
   "id": "ca6281e1",
   "metadata": {},
   "outputs": [
    {
     "data": {
      "text/plain": [
       "[1, 2, 3, 4, 4, 5, 6, 75]"
      ]
     },
     "execution_count": 95,
     "metadata": {},
     "output_type": "execute_result"
    }
   ],
   "source": [
    "a+b"
   ]
  },
  {
   "cell_type": "code",
   "execution_count": 96,
   "id": "425229ea",
   "metadata": {},
   "outputs": [],
   "source": [
    "c=[1,2,3,4]\n",
    "d=[4,5,6,75,2,3]"
   ]
  },
  {
   "cell_type": "code",
   "execution_count": 97,
   "id": "bcf0e671",
   "metadata": {},
   "outputs": [],
   "source": [
    "c.extend(d)"
   ]
  },
  {
   "cell_type": "code",
   "execution_count": 98,
   "id": "2aac7208",
   "metadata": {},
   "outputs": [
    {
     "data": {
      "text/plain": [
       "[1, 2, 3, 4, 4, 5, 6, 75, 2, 3]"
      ]
     },
     "execution_count": 98,
     "metadata": {},
     "output_type": "execute_result"
    }
   ],
   "source": [
    "c"
   ]
  },
  {
   "cell_type": "code",
   "execution_count": 102,
   "id": "c0e8b446",
   "metadata": {},
   "outputs": [],
   "source": [
    "d=[5,6,6,6,6,6,7,8,9]"
   ]
  },
  {
   "cell_type": "code",
   "execution_count": 103,
   "id": "beec39c1",
   "metadata": {},
   "outputs": [
    {
     "data": {
      "text/plain": [
       "5"
      ]
     },
     "execution_count": 103,
     "metadata": {},
     "output_type": "execute_result"
    }
   ],
   "source": [
    "d.count(6)"
   ]
  },
  {
   "cell_type": "code",
   "execution_count": 104,
   "id": "d0ec2e6c",
   "metadata": {},
   "outputs": [
    {
     "data": {
      "text/plain": [
       "1"
      ]
     },
     "execution_count": 104,
     "metadata": {},
     "output_type": "execute_result"
    }
   ],
   "source": [
    "d.index(6)"
   ]
  },
  {
   "cell_type": "code",
   "execution_count": 105,
   "id": "1f85f13e",
   "metadata": {},
   "outputs": [],
   "source": [
    "d.insert(3,\"gül\")"
   ]
  },
  {
   "cell_type": "code",
   "execution_count": 106,
   "id": "a2197ff8",
   "metadata": {},
   "outputs": [
    {
     "data": {
      "text/plain": [
       "[5, 6, 6, 'gül', 6, 6, 6, 7, 8, 9]"
      ]
     },
     "execution_count": 106,
     "metadata": {},
     "output_type": "execute_result"
    }
   ],
   "source": [
    "d"
   ]
  },
  {
   "cell_type": "code",
   "execution_count": 107,
   "id": "bdd40908",
   "metadata": {},
   "outputs": [
    {
     "data": {
      "text/plain": [
       "<function list.sort(*, key=None, reverse=False)>"
      ]
     },
     "execution_count": 107,
     "metadata": {},
     "output_type": "execute_result"
    }
   ],
   "source": [
    "d.sort"
   ]
  },
  {
   "cell_type": "code",
   "execution_count": 108,
   "id": "35de2638",
   "metadata": {},
   "outputs": [
    {
     "data": {
      "text/plain": [
       "[5, 6, 6, 'gül', 6, 6, 6, 7, 8, 9]"
      ]
     },
     "execution_count": 108,
     "metadata": {},
     "output_type": "execute_result"
    }
   ],
   "source": [
    "d"
   ]
  },
  {
   "cell_type": "code",
   "execution_count": 110,
   "id": "23dc3adc",
   "metadata": {},
   "outputs": [],
   "source": [
    "b=[1,2,3,4,6,5,6,7]"
   ]
  },
  {
   "cell_type": "code",
   "execution_count": 111,
   "id": "a4a00f17",
   "metadata": {},
   "outputs": [],
   "source": [
    "b.sort(reverse=True)"
   ]
  },
  {
   "cell_type": "code",
   "execution_count": 112,
   "id": "dcbdeea1",
   "metadata": {},
   "outputs": [
    {
     "data": {
      "text/plain": [
       "[7, 6, 6, 5, 4, 3, 2, 1]"
      ]
     },
     "execution_count": 112,
     "metadata": {},
     "output_type": "execute_result"
    }
   ],
   "source": [
    "b"
   ]
  },
  {
   "cell_type": "code",
   "execution_count": 113,
   "id": "36cdbc53",
   "metadata": {},
   "outputs": [],
   "source": [
    "i=[\"Ali\",\"Mehmet\"]"
   ]
  },
  {
   "cell_type": "code",
   "execution_count": 114,
   "id": "3bb2dbc1",
   "metadata": {},
   "outputs": [],
   "source": [
    "i.sort()"
   ]
  },
  {
   "cell_type": "code",
   "execution_count": 116,
   "id": "c4f44a37",
   "metadata": {},
   "outputs": [
    {
     "data": {
      "text/plain": [
       "['Ali', 'Mehmet']"
      ]
     },
     "execution_count": 116,
     "metadata": {},
     "output_type": "execute_result"
    }
   ],
   "source": [
    "i"
   ]
  },
  {
   "cell_type": "code",
   "execution_count": 117,
   "id": "3a4ded8a",
   "metadata": {},
   "outputs": [],
   "source": [
    "i.sort(reverse=True)"
   ]
  },
  {
   "cell_type": "code",
   "execution_count": 118,
   "id": "0836a24c",
   "metadata": {},
   "outputs": [
    {
     "data": {
      "text/plain": [
       "['Mehmet', 'Ali']"
      ]
     },
     "execution_count": 118,
     "metadata": {},
     "output_type": "execute_result"
    }
   ],
   "source": [
    "i"
   ]
  },
  {
   "cell_type": "code",
   "execution_count": 119,
   "id": "8ee26ef2",
   "metadata": {},
   "outputs": [],
   "source": [
    "i.clear()"
   ]
  },
  {
   "cell_type": "code",
   "execution_count": 120,
   "id": "09f73d70",
   "metadata": {},
   "outputs": [
    {
     "data": {
      "text/plain": [
       "[]"
      ]
     },
     "execution_count": 120,
     "metadata": {},
     "output_type": "execute_result"
    }
   ],
   "source": [
    "i"
   ]
  },
  {
   "cell_type": "markdown",
   "id": "b052c6c5",
   "metadata": {},
   "source": [
    "### Dictionary(Sözlükler)"
   ]
  },
  {
   "cell_type": "code",
   "execution_count": 121,
   "id": "63c0afa5",
   "metadata": {},
   "outputs": [],
   "source": [
    "kimlik={\"isim\":\"Üsame\",\n",
    "        \"soyisim\":\"Gül\",\n",
    "        \"tc_no\":9889984984,\n",
    "        \"yer\":\"antalya\"\n",
    "       }"
   ]
  },
  {
   "cell_type": "code",
   "execution_count": 122,
   "id": "ad90c677",
   "metadata": {},
   "outputs": [
    {
     "data": {
      "text/plain": [
       "'Üsame'"
      ]
     },
     "execution_count": 122,
     "metadata": {},
     "output_type": "execute_result"
    }
   ],
   "source": [
    "kimlik[\"isim\"]"
   ]
  },
  {
   "cell_type": "code",
   "execution_count": 123,
   "id": "0b80ab38",
   "metadata": {},
   "outputs": [
    {
     "ename": "KeyError",
     "evalue": "0",
     "output_type": "error",
     "traceback": [
      "\u001b[1;31m---------------------------------------------------------------------------\u001b[0m",
      "\u001b[1;31mKeyError\u001b[0m                                  Traceback (most recent call last)",
      "\u001b[1;32m~\\AppData\\Local\\Temp/ipykernel_21108/2676052536.py\u001b[0m in \u001b[0;36m<module>\u001b[1;34m\u001b[0m\n\u001b[1;32m----> 1\u001b[1;33m \u001b[0mkimlik\u001b[0m\u001b[1;33m[\u001b[0m\u001b[1;36m0\u001b[0m\u001b[1;33m]\u001b[0m\u001b[1;33m\u001b[0m\u001b[1;33m\u001b[0m\u001b[0m\n\u001b[0m",
      "\u001b[1;31mKeyError\u001b[0m: 0"
     ]
    }
   ],
   "source": [
    "kimlik[0]"
   ]
  },
  {
   "cell_type": "code",
   "execution_count": 124,
   "id": "b6501581",
   "metadata": {},
   "outputs": [],
   "source": [
    "kimlik[\"yer\"]=\"Ankara\""
   ]
  },
  {
   "cell_type": "code",
   "execution_count": 125,
   "id": "b345b132",
   "metadata": {},
   "outputs": [
    {
     "data": {
      "text/plain": [
       "{'isim': 'Üsame', 'soyisim': 'Gül', 'tc_no': 9889984984, 'yer': 'Ankara'}"
      ]
     },
     "execution_count": 125,
     "metadata": {},
     "output_type": "execute_result"
    }
   ],
   "source": [
    "kimlik"
   ]
  },
  {
   "cell_type": "code",
   "execution_count": 126,
   "id": "6b21844f",
   "metadata": {},
   "outputs": [
    {
     "data": {
      "text/plain": [
       "4"
      ]
     },
     "execution_count": 126,
     "metadata": {},
     "output_type": "execute_result"
    }
   ],
   "source": [
    "len(kimlik)"
   ]
  },
  {
   "cell_type": "code",
   "execution_count": 127,
   "id": "ff0cbee0",
   "metadata": {},
   "outputs": [],
   "source": [
    "kimlik={\"isim\":\"Üsame\",\n",
    "        \"soyisim\":\"Gül\",\n",
    "        \"tc_no\":9889984984,\n",
    "        \"yer\":\"antalya\",\n",
    "        \"bilgiler\":{\n",
    "            \"email\":\"fdkfkafkfad@gmail.com\",\n",
    "            \"kardes_sayisi\":1\n",
    "        }\n",
    "        \n",
    "       }"
   ]
  },
  {
   "cell_type": "code",
   "execution_count": 128,
   "id": "67ff2aba",
   "metadata": {},
   "outputs": [
    {
     "data": {
      "text/plain": [
       "{'isim': 'Üsame',\n",
       " 'soyisim': 'Gül',\n",
       " 'tc_no': 9889984984,\n",
       " 'yer': 'antalya',\n",
       " 'bilgiler': {'email': 'fdkfkafkfad@gmail.com', 'kardes_sayisi': 1}}"
      ]
     },
     "execution_count": 128,
     "metadata": {},
     "output_type": "execute_result"
    }
   ],
   "source": [
    "kimlik"
   ]
  },
  {
   "cell_type": "code",
   "execution_count": 129,
   "id": "6b3fff1f",
   "metadata": {},
   "outputs": [
    {
     "data": {
      "text/plain": [
       "dict_keys(['isim', 'soyisim', 'tc_no', 'yer', 'bilgiler'])"
      ]
     },
     "execution_count": 129,
     "metadata": {},
     "output_type": "execute_result"
    }
   ],
   "source": [
    "kimlik.keys()"
   ]
  },
  {
   "cell_type": "code",
   "execution_count": 130,
   "id": "ee93bb7e",
   "metadata": {},
   "outputs": [
    {
     "data": {
      "text/plain": [
       "dict_values(['Üsame', 'Gül', 9889984984, 'antalya', {'email': 'fdkfkafkfad@gmail.com', 'kardes_sayisi': 1}])"
      ]
     },
     "execution_count": 130,
     "metadata": {},
     "output_type": "execute_result"
    }
   ],
   "source": [
    "kimlik.values()"
   ]
  },
  {
   "cell_type": "code",
   "execution_count": 131,
   "id": "8a38e53a",
   "metadata": {},
   "outputs": [
    {
     "data": {
      "text/plain": [
       "dict_items([('isim', 'Üsame'), ('soyisim', 'Gül'), ('tc_no', 9889984984), ('yer', 'antalya'), ('bilgiler', {'email': 'fdkfkafkfad@gmail.com', 'kardes_sayisi': 1})])"
      ]
     },
     "execution_count": 131,
     "metadata": {},
     "output_type": "execute_result"
    }
   ],
   "source": [
    "kimlik.items()"
   ]
  },
  {
   "cell_type": "code",
   "execution_count": 132,
   "id": "350fc054",
   "metadata": {},
   "outputs": [
    {
     "data": {
      "text/plain": [
       "'antalya'"
      ]
     },
     "execution_count": 132,
     "metadata": {},
     "output_type": "execute_result"
    }
   ],
   "source": [
    "kimlik.get(\"yer\")"
   ]
  },
  {
   "cell_type": "code",
   "execution_count": 134,
   "id": "b169ea37",
   "metadata": {},
   "outputs": [],
   "source": [
    "kimlik.update({\"anne_adi\":\"Huriye\"})"
   ]
  },
  {
   "cell_type": "code",
   "execution_count": 135,
   "id": "48031304",
   "metadata": {},
   "outputs": [
    {
     "data": {
      "text/plain": [
       "{'isim': 'Üsame',\n",
       " 'soyisim': 'Gül',\n",
       " 'tc_no': 9889984984,\n",
       " 'yer': 'antalya',\n",
       " 'bilgiler': {'email': 'fdkfkafkfad@gmail.com', 'kardes_sayisi': 1},\n",
       " 'anne_adi': 'Huriye'}"
      ]
     },
     "execution_count": 135,
     "metadata": {},
     "output_type": "execute_result"
    }
   ],
   "source": [
    "kimlik"
   ]
  },
  {
   "cell_type": "code",
   "execution_count": 136,
   "id": "7a57959d",
   "metadata": {},
   "outputs": [
    {
     "data": {
      "text/plain": [
       "{'isim': 'Üsame',\n",
       " 'soyisim': 'Gül',\n",
       " 'tc_no': 9889984984,\n",
       " 'yer': 'antalya',\n",
       " 'bilgiler': {'email': 'fdkfkafkfad@gmail.com', 'kardes_sayisi': 1},\n",
       " 'anne_adi': 'Huriye'}"
      ]
     },
     "execution_count": 136,
     "metadata": {},
     "output_type": "execute_result"
    }
   ],
   "source": [
    "kimlik.copy()"
   ]
  },
  {
   "cell_type": "code",
   "execution_count": 138,
   "id": "d91a034a",
   "metadata": {},
   "outputs": [
    {
     "data": {
      "text/plain": [
       "'Üsame'"
      ]
     },
     "execution_count": 138,
     "metadata": {},
     "output_type": "execute_result"
    }
   ],
   "source": [
    "kimlik.pop('isim')"
   ]
  },
  {
   "cell_type": "code",
   "execution_count": 139,
   "id": "a5b5e900",
   "metadata": {},
   "outputs": [],
   "source": [
    "kimlik.clear()"
   ]
  },
  {
   "cell_type": "code",
   "execution_count": 140,
   "id": "3d4b1afc",
   "metadata": {},
   "outputs": [
    {
     "data": {
      "text/plain": [
       "{}"
      ]
     },
     "execution_count": 140,
     "metadata": {},
     "output_type": "execute_result"
    }
   ],
   "source": [
    "kimlik"
   ]
  },
  {
   "cell_type": "markdown",
   "id": "7be4287b",
   "metadata": {},
   "source": [
    "#### Demetler(Tuples)"
   ]
  },
  {
   "cell_type": "code",
   "execution_count": 141,
   "id": "99ed1161",
   "metadata": {},
   "outputs": [],
   "source": [
    "zamirler=(\"ben\",\"sen\",\"o\",\"biz\",\"siz\",\"onlar\")"
   ]
  },
  {
   "cell_type": "markdown",
   "id": "dba95377",
   "metadata": {},
   "source": [
    "demetler değiştirilemez."
   ]
  },
  {
   "cell_type": "code",
   "execution_count": 142,
   "id": "a62d79bf",
   "metadata": {},
   "outputs": [
    {
     "data": {
      "text/plain": [
       "'ben'"
      ]
     },
     "execution_count": 142,
     "metadata": {},
     "output_type": "execute_result"
    }
   ],
   "source": [
    "zamirler[0]"
   ]
  },
  {
   "cell_type": "code",
   "execution_count": 143,
   "id": "29f80970",
   "metadata": {},
   "outputs": [
    {
     "ename": "TypeError",
     "evalue": "'tuple' object does not support item assignment",
     "output_type": "error",
     "traceback": [
      "\u001b[1;31m---------------------------------------------------------------------------\u001b[0m",
      "\u001b[1;31mTypeError\u001b[0m                                 Traceback (most recent call last)",
      "\u001b[1;32m~\\AppData\\Local\\Temp/ipykernel_21108/3836901421.py\u001b[0m in \u001b[0;36m<module>\u001b[1;34m\u001b[0m\n\u001b[1;32m----> 1\u001b[1;33m \u001b[0mzamirler\u001b[0m\u001b[1;33m[\u001b[0m\u001b[1;36m0\u001b[0m\u001b[1;33m]\u001b[0m\u001b[1;33m=\u001b[0m\u001b[1;34m\"ken\"\u001b[0m\u001b[1;33m\u001b[0m\u001b[1;33m\u001b[0m\u001b[0m\n\u001b[0m",
      "\u001b[1;31mTypeError\u001b[0m: 'tuple' object does not support item assignment"
     ]
    }
   ],
   "source": [
    "zamirler[0]=\"ken\""
   ]
  },
  {
   "cell_type": "code",
   "execution_count": 145,
   "id": "dfbcf6a0",
   "metadata": {},
   "outputs": [
    {
     "data": {
      "text/plain": [
       "('biz', 'siz')"
      ]
     },
     "execution_count": 145,
     "metadata": {},
     "output_type": "execute_result"
    }
   ],
   "source": [
    "zamirler[-3:-1]"
   ]
  },
  {
   "cell_type": "code",
   "execution_count": 146,
   "id": "f830012e",
   "metadata": {},
   "outputs": [
    {
     "data": {
      "text/plain": [
       "6"
      ]
     },
     "execution_count": 146,
     "metadata": {},
     "output_type": "execute_result"
    }
   ],
   "source": [
    "len(zamirler)"
   ]
  },
  {
   "cell_type": "code",
   "execution_count": 148,
   "id": "f0ac8316",
   "metadata": {},
   "outputs": [],
   "source": [
    "sayilar=(1,2,3,54,56)"
   ]
  },
  {
   "cell_type": "code",
   "execution_count": 149,
   "id": "6cec3116",
   "metadata": {},
   "outputs": [
    {
     "data": {
      "text/plain": [
       "('ben', 'sen', 'o', 'biz', 'siz', 'onlar', 1, 2, 3, 54, 56)"
      ]
     },
     "execution_count": 149,
     "metadata": {},
     "output_type": "execute_result"
    }
   ],
   "source": [
    "zamirler+sayilar"
   ]
  },
  {
   "cell_type": "code",
   "execution_count": 150,
   "id": "8cfa34e8",
   "metadata": {},
   "outputs": [
    {
     "data": {
      "text/plain": [
       "0"
      ]
     },
     "execution_count": 150,
     "metadata": {},
     "output_type": "execute_result"
    }
   ],
   "source": [
    "sayilar.count(7)"
   ]
  },
  {
   "cell_type": "markdown",
   "id": "0fe5fc41",
   "metadata": {},
   "source": [
    "#### Kümeler(Sets)"
   ]
  },
  {
   "cell_type": "code",
   "execution_count": 151,
   "id": "39663a1c",
   "metadata": {},
   "outputs": [],
   "source": [
    "sayı={1,2,3,44,4,4,4,4,3,5}"
   ]
  },
  {
   "cell_type": "markdown",
   "id": "e3599a9c",
   "metadata": {},
   "source": [
    "sırasız olabilir , farklı şeylerden oluşabilir , aynı elemanları kendine dahil etmez."
   ]
  },
  {
   "cell_type": "code",
   "execution_count": 152,
   "id": "295d90e0",
   "metadata": {},
   "outputs": [
    {
     "data": {
      "text/plain": [
       "{1, 2, 3, 4, 5, 44}"
      ]
     },
     "execution_count": 152,
     "metadata": {},
     "output_type": "execute_result"
    }
   ],
   "source": [
    "sayı"
   ]
  },
  {
   "cell_type": "code",
   "execution_count": 154,
   "id": "658aa4fb",
   "metadata": {},
   "outputs": [
    {
     "ename": "TypeError",
     "evalue": "'set' object is not subscriptable",
     "output_type": "error",
     "traceback": [
      "\u001b[1;31m---------------------------------------------------------------------------\u001b[0m",
      "\u001b[1;31mTypeError\u001b[0m                                 Traceback (most recent call last)",
      "\u001b[1;32m~\\AppData\\Local\\Temp/ipykernel_21108/3718180613.py\u001b[0m in \u001b[0;36m<module>\u001b[1;34m\u001b[0m\n\u001b[1;32m----> 1\u001b[1;33m \u001b[0msayı\u001b[0m\u001b[1;33m[\u001b[0m\u001b[1;36m1\u001b[0m\u001b[1;33m]\u001b[0m\u001b[1;33m\u001b[0m\u001b[1;33m\u001b[0m\u001b[0m\n\u001b[0m",
      "\u001b[1;31mTypeError\u001b[0m: 'set' object is not subscriptable"
     ]
    }
   ],
   "source": [
    "sayı[1]"
   ]
  },
  {
   "cell_type": "code",
   "execution_count": 155,
   "id": "77e8f3f7",
   "metadata": {},
   "outputs": [],
   "source": [
    "sayı.add(100)"
   ]
  },
  {
   "cell_type": "code",
   "execution_count": 156,
   "id": "4771d896",
   "metadata": {},
   "outputs": [
    {
     "data": {
      "text/plain": [
       "{1, 2, 3, 4, 5, 44, 100}"
      ]
     },
     "execution_count": 156,
     "metadata": {},
     "output_type": "execute_result"
    }
   ],
   "source": [
    "sayı"
   ]
  },
  {
   "cell_type": "code",
   "execution_count": 158,
   "id": "099a5d3b",
   "metadata": {},
   "outputs": [],
   "source": [
    "sayı.discard(5)"
   ]
  },
  {
   "cell_type": "code",
   "execution_count": 159,
   "id": "0ac44359",
   "metadata": {},
   "outputs": [
    {
     "data": {
      "text/plain": [
       "{1, 2, 3, 4, 44, 100}"
      ]
     },
     "execution_count": 159,
     "metadata": {},
     "output_type": "execute_result"
    }
   ],
   "source": [
    "sayı"
   ]
  },
  {
   "cell_type": "code",
   "execution_count": 161,
   "id": "b84006e5",
   "metadata": {},
   "outputs": [],
   "source": [
    "sayı.remove(4)"
   ]
  },
  {
   "cell_type": "code",
   "execution_count": null,
   "id": "24185fe9",
   "metadata": {},
   "outputs": [],
   "source": [
    "sayı.update()"
   ]
  },
  {
   "cell_type": "code",
   "execution_count": 162,
   "id": "7c51673c",
   "metadata": {},
   "outputs": [],
   "source": [
    "yeni={11,31,41,51,61,21}\n",
    "sayı.update(yeni)"
   ]
  },
  {
   "cell_type": "code",
   "execution_count": 163,
   "id": "7e724702",
   "metadata": {},
   "outputs": [
    {
     "data": {
      "text/plain": [
       "{1, 2, 3, 11, 21, 31, 41, 44, 51, 61, 100}"
      ]
     },
     "execution_count": 163,
     "metadata": {},
     "output_type": "execute_result"
    }
   ],
   "source": [
    "sayı"
   ]
  },
  {
   "cell_type": "code",
   "execution_count": 164,
   "id": "9e13562d",
   "metadata": {},
   "outputs": [],
   "source": [
    "a={1,2,3,4}\n",
    "b={3,4,5,6}"
   ]
  },
  {
   "cell_type": "code",
   "execution_count": 165,
   "id": "d8140e5a",
   "metadata": {},
   "outputs": [
    {
     "data": {
      "text/plain": [
       "{1, 2}"
      ]
     },
     "execution_count": 165,
     "metadata": {},
     "output_type": "execute_result"
    }
   ],
   "source": [
    "a.difference(b)"
   ]
  },
  {
   "cell_type": "code",
   "execution_count": 166,
   "id": "6d8ac59f",
   "metadata": {},
   "outputs": [
    {
     "data": {
      "text/plain": [
       "{3, 4}"
      ]
     },
     "execution_count": 166,
     "metadata": {},
     "output_type": "execute_result"
    }
   ],
   "source": [
    "a.intersection(b)"
   ]
  },
  {
   "cell_type": "code",
   "execution_count": 167,
   "id": "ed98ec53",
   "metadata": {},
   "outputs": [
    {
     "data": {
      "text/plain": [
       "{1, 2, 3, 4, 5, 6}"
      ]
     },
     "execution_count": 167,
     "metadata": {},
     "output_type": "execute_result"
    }
   ],
   "source": [
    "a.union(b)"
   ]
  },
  {
   "cell_type": "code",
   "execution_count": 168,
   "id": "e56e6897",
   "metadata": {},
   "outputs": [],
   "source": [
    "a=9"
   ]
  },
  {
   "cell_type": "code",
   "execution_count": 170,
   "id": "6d8128f2",
   "metadata": {},
   "outputs": [
    {
     "data": {
      "text/plain": [
       "int"
      ]
     },
     "execution_count": 170,
     "metadata": {},
     "output_type": "execute_result"
    }
   ],
   "source": [
    "type(a)"
   ]
  },
  {
   "cell_type": "code",
   "execution_count": 171,
   "id": "4749514b",
   "metadata": {},
   "outputs": [],
   "source": [
    "b=\"5.7\""
   ]
  },
  {
   "cell_type": "code",
   "execution_count": 173,
   "id": "85426e15",
   "metadata": {},
   "outputs": [],
   "source": [
    "c=str(a)"
   ]
  },
  {
   "cell_type": "code",
   "execution_count": 174,
   "id": "4a8759e0",
   "metadata": {},
   "outputs": [
    {
     "data": {
      "text/plain": [
       "'95.7'"
      ]
     },
     "execution_count": 174,
     "metadata": {},
     "output_type": "execute_result"
    }
   ],
   "source": [
    "c+b"
   ]
  },
  {
   "cell_type": "code",
   "execution_count": 175,
   "id": "9dfb7d76",
   "metadata": {},
   "outputs": [],
   "source": [
    "d=float(b)"
   ]
  },
  {
   "cell_type": "code",
   "execution_count": 176,
   "id": "73e075fb",
   "metadata": {},
   "outputs": [
    {
     "data": {
      "text/plain": [
       "float"
      ]
     },
     "execution_count": 176,
     "metadata": {},
     "output_type": "execute_result"
    }
   ],
   "source": [
    "type(d)"
   ]
  },
  {
   "cell_type": "code",
   "execution_count": 182,
   "id": "3af36466",
   "metadata": {},
   "outputs": [],
   "source": [
    "x=[1,2,3,4,5,5,5,5]"
   ]
  },
  {
   "cell_type": "code",
   "execution_count": 183,
   "id": "02700439",
   "metadata": {},
   "outputs": [
    {
     "data": {
      "text/plain": [
       "(1, 2, 3, 4, 5, 5, 5, 5)"
      ]
     },
     "execution_count": 183,
     "metadata": {},
     "output_type": "execute_result"
    }
   ],
   "source": [
    "tuple(x)"
   ]
  },
  {
   "cell_type": "code",
   "execution_count": 184,
   "id": "f6886b70",
   "metadata": {},
   "outputs": [
    {
     "data": {
      "text/plain": [
       "{1, 2, 3, 4, 5}"
      ]
     },
     "execution_count": 184,
     "metadata": {},
     "output_type": "execute_result"
    }
   ],
   "source": [
    "set(x)"
   ]
  },
  {
   "cell_type": "code",
   "execution_count": 185,
   "id": "f9b2806e",
   "metadata": {},
   "outputs": [
    {
     "data": {
      "text/plain": [
       "{'x': 7, 'y': 9}"
      ]
     },
     "execution_count": 185,
     "metadata": {},
     "output_type": "execute_result"
    }
   ],
   "source": [
    "dict(x=7,y=9)"
   ]
  },
  {
   "cell_type": "code",
   "execution_count": 186,
   "id": "1c8b4095",
   "metadata": {},
   "outputs": [],
   "source": [
    "t=(5,7,4,8)"
   ]
  },
  {
   "cell_type": "code",
   "execution_count": 188,
   "id": "f4ba5394",
   "metadata": {},
   "outputs": [],
   "source": [
    "y=list(t)"
   ]
  },
  {
   "cell_type": "code",
   "execution_count": 189,
   "id": "d31867b3",
   "metadata": {},
   "outputs": [
    {
     "data": {
      "text/plain": [
       "list"
      ]
     },
     "execution_count": 189,
     "metadata": {},
     "output_type": "execute_result"
    }
   ],
   "source": [
    "type(y)"
   ]
  },
  {
   "cell_type": "markdown",
   "id": "e4a7dbe6",
   "metadata": {},
   "source": [
    "#### Veri tipleri arasında dönüşüm"
   ]
  },
  {
   "cell_type": "code",
   "execution_count": 1,
   "id": "3ee7e0b3",
   "metadata": {},
   "outputs": [],
   "source": [
    "a=9.9"
   ]
  },
  {
   "cell_type": "code",
   "execution_count": 2,
   "id": "3fcec962",
   "metadata": {},
   "outputs": [
    {
     "data": {
      "text/plain": [
       "float"
      ]
     },
     "execution_count": 2,
     "metadata": {},
     "output_type": "execute_result"
    }
   ],
   "source": [
    "type(a)"
   ]
  },
  {
   "cell_type": "code",
   "execution_count": 3,
   "id": "4b000215",
   "metadata": {},
   "outputs": [
    {
     "data": {
      "text/plain": [
       "'9.9'"
      ]
     },
     "execution_count": 3,
     "metadata": {},
     "output_type": "execute_result"
    }
   ],
   "source": [
    "str(a)"
   ]
  },
  {
   "cell_type": "code",
   "execution_count": 4,
   "id": "619fe8e4",
   "metadata": {},
   "outputs": [],
   "source": [
    "b=5.7"
   ]
  },
  {
   "cell_type": "code",
   "execution_count": 5,
   "id": "4ece989a",
   "metadata": {},
   "outputs": [],
   "source": [
    "d=float(b)"
   ]
  },
  {
   "cell_type": "code",
   "execution_count": 6,
   "id": "aca18f1f",
   "metadata": {},
   "outputs": [
    {
     "data": {
      "text/plain": [
       "float"
      ]
     },
     "execution_count": 6,
     "metadata": {},
     "output_type": "execute_result"
    }
   ],
   "source": [
    "type(d)"
   ]
  },
  {
   "cell_type": "code",
   "execution_count": 7,
   "id": "9f9c0ac9",
   "metadata": {},
   "outputs": [],
   "source": [
    "x=[3,4,5,6,6,7]"
   ]
  },
  {
   "cell_type": "code",
   "execution_count": 8,
   "id": "ab3c51b7",
   "metadata": {},
   "outputs": [
    {
     "data": {
      "text/plain": [
       "(3, 4, 5, 6, 6, 7)"
      ]
     },
     "execution_count": 8,
     "metadata": {},
     "output_type": "execute_result"
    }
   ],
   "source": [
    "tuple(x)"
   ]
  },
  {
   "cell_type": "code",
   "execution_count": 9,
   "id": "afd0ec52",
   "metadata": {},
   "outputs": [
    {
     "data": {
      "text/plain": [
       "{3, 4, 5, 6, 7}"
      ]
     },
     "execution_count": 9,
     "metadata": {},
     "output_type": "execute_result"
    }
   ],
   "source": [
    "set(x)"
   ]
  },
  {
   "cell_type": "code",
   "execution_count": 10,
   "id": "3dcb82e1",
   "metadata": {},
   "outputs": [
    {
     "data": {
      "text/plain": [
       "{'x': 7, 'y': 9}"
      ]
     },
     "execution_count": 10,
     "metadata": {},
     "output_type": "execute_result"
    }
   ],
   "source": [
    "dict(x=7 , y=9)"
   ]
  },
  {
   "cell_type": "code",
   "execution_count": 11,
   "id": "e7d0f397",
   "metadata": {},
   "outputs": [],
   "source": [
    "t=(1,2,3,4,5)\n"
   ]
  },
  {
   "cell_type": "code",
   "execution_count": 12,
   "id": "a434f717",
   "metadata": {},
   "outputs": [],
   "source": [
    "y=list(t)"
   ]
  },
  {
   "cell_type": "code",
   "execution_count": 13,
   "id": "df9a26a5",
   "metadata": {},
   "outputs": [
    {
     "data": {
      "text/plain": [
       "[1, 2, 3, 4, 5]"
      ]
     },
     "execution_count": 13,
     "metadata": {},
     "output_type": "execute_result"
    }
   ],
   "source": [
    "y"
   ]
  },
  {
   "cell_type": "code",
   "execution_count": 14,
   "id": "77a472f6",
   "metadata": {},
   "outputs": [
    {
     "data": {
      "text/plain": [
       "list"
      ]
     },
     "execution_count": 14,
     "metadata": {},
     "output_type": "execute_result"
    }
   ],
   "source": [
    "type(y)"
   ]
  },
  {
   "cell_type": "markdown",
   "id": "db0cff88",
   "metadata": {},
   "source": [
    "### Mantık Operatörleri"
   ]
  },
  {
   "cell_type": "code",
   "execution_count": 15,
   "id": "c1a9405b",
   "metadata": {},
   "outputs": [
    {
     "data": {
      "text/plain": [
       "False"
      ]
     },
     "execution_count": 15,
     "metadata": {},
     "output_type": "execute_result"
    }
   ],
   "source": [
    "5 <10 and 3>8"
   ]
  },
  {
   "cell_type": "code",
   "execution_count": 16,
   "id": "a8fecf65",
   "metadata": {},
   "outputs": [
    {
     "data": {
      "text/plain": [
       "True"
      ]
     },
     "execution_count": 16,
     "metadata": {},
     "output_type": "execute_result"
    }
   ],
   "source": [
    "5 <10 and 3>2"
   ]
  },
  {
   "cell_type": "code",
   "execution_count": 17,
   "id": "b6a75ff1",
   "metadata": {},
   "outputs": [
    {
     "data": {
      "text/plain": [
       "True"
      ]
     },
     "execution_count": 17,
     "metadata": {},
     "output_type": "execute_result"
    }
   ],
   "source": [
    "2>=2 or 1>2\n"
   ]
  },
  {
   "cell_type": "code",
   "execution_count": 18,
   "id": "00e4b830",
   "metadata": {},
   "outputs": [
    {
     "data": {
      "text/plain": [
       "False"
      ]
     },
     "execution_count": 18,
     "metadata": {},
     "output_type": "execute_result"
    }
   ],
   "source": [
    "not 6>3"
   ]
  },
  {
   "cell_type": "markdown",
   "id": "12138bd1",
   "metadata": {},
   "source": [
    "##### aitlik operatörü"
   ]
  },
  {
   "cell_type": "code",
   "execution_count": 19,
   "id": "b71211ae",
   "metadata": {},
   "outputs": [],
   "source": [
    "b=[3,5,6,7]"
   ]
  },
  {
   "cell_type": "code",
   "execution_count": 20,
   "id": "5617bbef",
   "metadata": {},
   "outputs": [
    {
     "data": {
      "text/plain": [
       "True"
      ]
     },
     "execution_count": 20,
     "metadata": {},
     "output_type": "execute_result"
    }
   ],
   "source": [
    "6 in b"
   ]
  },
  {
   "cell_type": "code",
   "execution_count": 21,
   "id": "3995e2b5",
   "metadata": {},
   "outputs": [
    {
     "data": {
      "text/plain": [
       "True"
      ]
     },
     "execution_count": 21,
     "metadata": {},
     "output_type": "execute_result"
    }
   ],
   "source": [
    "8 not in b"
   ]
  },
  {
   "cell_type": "markdown",
   "id": "171a4a1d",
   "metadata": {},
   "source": [
    "##### atama operatörleri"
   ]
  },
  {
   "cell_type": "code",
   "execution_count": 29,
   "id": "c38effc7",
   "metadata": {},
   "outputs": [],
   "source": [
    "b=2"
   ]
  },
  {
   "cell_type": "code",
   "execution_count": 30,
   "id": "179b5e1e",
   "metadata": {},
   "outputs": [],
   "source": [
    "b=b+5\n",
    "    "
   ]
  },
  {
   "cell_type": "code",
   "execution_count": 31,
   "id": "6dbcbbaa",
   "metadata": {},
   "outputs": [
    {
     "data": {
      "text/plain": [
       "7"
      ]
     },
     "execution_count": 31,
     "metadata": {},
     "output_type": "execute_result"
    }
   ],
   "source": [
    "b\n"
   ]
  },
  {
   "cell_type": "code",
   "execution_count": 32,
   "id": "0ff6b4ec",
   "metadata": {},
   "outputs": [],
   "source": [
    "b+=5"
   ]
  },
  {
   "cell_type": "code",
   "execution_count": 33,
   "id": "4c0d3435",
   "metadata": {},
   "outputs": [
    {
     "data": {
      "text/plain": [
       "12"
      ]
     },
     "execution_count": 33,
     "metadata": {},
     "output_type": "execute_result"
    }
   ],
   "source": [
    "b"
   ]
  },
  {
   "cell_type": "code",
   "execution_count": 34,
   "id": "0f536153",
   "metadata": {},
   "outputs": [
    {
     "data": {
      "text/plain": [
       "61917364224"
      ]
     },
     "execution_count": 34,
     "metadata": {},
     "output_type": "execute_result"
    }
   ],
   "source": [
    "b**10"
   ]
  },
  {
   "cell_type": "code",
   "execution_count": 35,
   "id": "488d420f",
   "metadata": {},
   "outputs": [],
   "source": [
    "b/=10"
   ]
  },
  {
   "cell_type": "code",
   "execution_count": 36,
   "id": "6cc6f1a3",
   "metadata": {},
   "outputs": [
    {
     "data": {
      "text/plain": [
       "1.2"
      ]
     },
     "execution_count": 36,
     "metadata": {},
     "output_type": "execute_result"
    }
   ],
   "source": [
    "b"
   ]
  },
  {
   "cell_type": "code",
   "execution_count": 37,
   "id": "73158979",
   "metadata": {},
   "outputs": [],
   "source": [
    "b*=5"
   ]
  },
  {
   "cell_type": "code",
   "execution_count": 38,
   "id": "9676313c",
   "metadata": {},
   "outputs": [
    {
     "data": {
      "text/plain": [
       "6.0"
      ]
     },
     "execution_count": 38,
     "metadata": {},
     "output_type": "execute_result"
    }
   ],
   "source": [
    "b"
   ]
  },
  {
   "cell_type": "code",
   "execution_count": 39,
   "id": "3aa16a88",
   "metadata": {},
   "outputs": [],
   "source": [
    "b //=3.2"
   ]
  },
  {
   "cell_type": "code",
   "execution_count": 40,
   "id": "011698bf",
   "metadata": {},
   "outputs": [
    {
     "data": {
      "text/plain": [
       "1.0"
      ]
     },
     "execution_count": 40,
     "metadata": {},
     "output_type": "execute_result"
    }
   ],
   "source": [
    "b"
   ]
  },
  {
   "cell_type": "code",
   "execution_count": 41,
   "id": "7b8fe671",
   "metadata": {},
   "outputs": [
    {
     "data": {
      "text/plain": [
       "1.0"
      ]
     },
     "execution_count": 41,
     "metadata": {},
     "output_type": "execute_result"
    }
   ],
   "source": [
    "b % 5"
   ]
  },
  {
   "cell_type": "markdown",
   "id": "2a720770",
   "metadata": {},
   "source": [
    "###  if - else"
   ]
  },
  {
   "cell_type": "code",
   "execution_count": 42,
   "id": "322f281d",
   "metadata": {},
   "outputs": [
    {
     "name": "stdout",
     "output_type": "stream",
     "text": [
      "beş büyüktür üç\n"
     ]
    }
   ],
   "source": [
    "if 5>3:\n",
    "    print(\"beş büyüktür üç\")\n",
    "else:\n",
    "    print(\"yanlis\")"
   ]
  },
  {
   "cell_type": "code",
   "execution_count": 44,
   "id": "a67a5ca7",
   "metadata": {},
   "outputs": [
    {
     "name": "stdout",
     "output_type": "stream",
     "text": [
      "k_adi girin: usamegl\n",
      "pw girin: 12345\n",
      "doğru k_adi ve sifre \n"
     ]
    }
   ],
   "source": [
    "k_adi=\"usamegl\"\n",
    "pw=\"12345\"\n",
    "input(\"k_adi girin: \")\n",
    "input(\"pw girin: \")\n",
    "if k_adi==\"usamegl\":\n",
    "    print(\"doğru k_adi ve sifre \")\n",
    "else:\n",
    "    print(\"yanlis kullanici adi ve sifre\")"
   ]
  },
  {
   "cell_type": "code",
   "execution_count": 45,
   "id": "5d915ef7",
   "metadata": {},
   "outputs": [
    {
     "name": "stdout",
     "output_type": "stream",
     "text": [
      "k_adi girin: usamegl\n",
      "pw girin: 123242\n",
      "Sifreniz yanlis\n"
     ]
    }
   ],
   "source": [
    "k_adi=\"usamegl\"\n",
    "pw=\"12345\"\n",
    "ad=input(\"k_adi girin: \")\n",
    "pw1=input(\"pw girin: \")\n",
    "if k_adi==ad and pw==pw1:\n",
    "    print(\"Sisteme girildi\")\n",
    "elif k_adi != ad:\n",
    "    print(\"Kullanici adiniz yanlis\")\n",
    "else:\n",
    "    print(\"Sifreniz yanlis\")"
   ]
  },
  {
   "cell_type": "code",
   "execution_count": 46,
   "id": "36371fd6",
   "metadata": {},
   "outputs": [
    {
     "name": "stdout",
     "output_type": "stream",
     "text": [
      "Notunuzu girin: 40\n",
      "Kaldınız\n"
     ]
    }
   ],
   "source": [
    "ders_notu=int(input(\"Notunuzu girin: \"))\n",
    "if ders_notu >=90 and ders_notu <=100:\n",
    "    print(\"AA\")\n",
    "elif ders_notu >=80 and ders_notu <=90:\n",
    "    print(\"BB\")\n",
    "elif ders_notu >=70 and ders_notu <=80:\n",
    "    print(\"CC\") \n",
    "elif ders_notu >=60 and ders_notu <=70:\n",
    "    print(\"DD\")\n",
    "elif ders_notu >=50 and ders_notu <=60:\n",
    "    print(\"FF\")\n",
    "elif ders_notu <50:\n",
    "    print(\"Kaldınız\")\n",
    "else:\n",
    "    print(\"Geçerli bir değer girin : \")\n",
    "    "
   ]
  },
  {
   "cell_type": "code",
   "execution_count": 49,
   "id": "147ca0fc",
   "metadata": {},
   "outputs": [
    {
     "name": "stdout",
     "output_type": "stream",
     "text": [
      "Yanlış\n"
     ]
    }
   ],
   "source": [
    "print(\"5 büyüktür 3 \") if 1>3 else print(\"Yanlış\")"
   ]
  },
  {
   "cell_type": "code",
   "execution_count": 50,
   "id": "9bd90455",
   "metadata": {},
   "outputs": [
    {
     "name": "stdout",
     "output_type": "stream",
     "text": [
      "5 büyüktür 3\n"
     ]
    }
   ],
   "source": [
    "if 5>3 : print (\"5 büyüktür 3\")"
   ]
  },
  {
   "cell_type": "markdown",
   "id": "fc6f6d42",
   "metadata": {},
   "source": [
    "nested if"
   ]
  },
  {
   "cell_type": "code",
   "execution_count": 52,
   "id": "b9ab9808",
   "metadata": {},
   "outputs": [
    {
     "name": "stdout",
     "output_type": "stream",
     "text": [
      "Bir sayi giriniz : 45\n",
      "sayi pozitifdir\n"
     ]
    }
   ],
   "source": [
    "sayi=int(input(\"Bir sayi giriniz : \"))\n",
    "if sayi >=0:\n",
    "    if sayi==0:\n",
    "        print(\"Sayi sifirdir\")\n",
    "    else:\n",
    "        print(\"sayi pozitifdir\")\n",
    "else:\n",
    "    print(\"sayi negatif\")"
   ]
  },
  {
   "cell_type": "markdown",
   "id": "b91575ee",
   "metadata": {},
   "source": [
    "### Döngüler (Loops) "
   ]
  },
  {
   "cell_type": "markdown",
   "id": "252f070c",
   "metadata": {},
   "source": [
    "##### For and While"
   ]
  },
  {
   "cell_type": "code",
   "execution_count": 56,
   "id": "4ada01b9",
   "metadata": {},
   "outputs": [
    {
     "name": "stdout",
     "output_type": "stream",
     "text": [
      "Bizim sayimiz =  0\n",
      "Bizim sayimiz =  1\n",
      "Bizim sayimiz =  2\n",
      "Bizim sayimiz =  3\n",
      "Bizim sayimiz =  4\n",
      "Bizim sayimiz =  5\n",
      "Bizim sayimiz =  6\n",
      "Bizim sayimiz =  7\n",
      "Bizim sayimiz =  8\n",
      "Bizim sayimiz =  9\n",
      "sayimiz ondan büyük\n"
     ]
    }
   ],
   "source": [
    "x=0\n",
    "while x<10:\n",
    "    print(\"Bizim sayimiz = \", x)\n",
    "    x+=1\n",
    "else:\n",
    "    print(\"sayimiz ondan büyük\")"
   ]
  },
  {
   "cell_type": "code",
   "execution_count": 57,
   "id": "3f121f47",
   "metadata": {},
   "outputs": [
    {
     "name": "stdout",
     "output_type": "stream",
     "text": [
      "Bizim sayimiz =  0\n",
      "Bizim sayimiz =  1\n",
      "Bizim sayimiz =  2\n",
      "Bizim sayimiz =  3\n",
      "Bizim sayimiz =  4\n",
      "Bizim sayimiz =  5\n"
     ]
    }
   ],
   "source": [
    "x=0\n",
    "while x<10:\n",
    "    print(\"Bizim sayimiz = \", x)\n",
    "    if x==5:\n",
    "        break\n",
    "    x+=1\n",
    "else:\n",
    "    print(\"sayimiz ondan büyük\")"
   ]
  },
  {
   "cell_type": "code",
   "execution_count": 60,
   "id": "88465234",
   "metadata": {},
   "outputs": [
    {
     "name": "stdout",
     "output_type": "stream",
     "text": [
      "Bizim sayimiz =  1\n",
      "Bizim sayimiz =  2\n",
      "Bizim sayimiz =  3\n",
      "Bizim sayimiz =  4\n",
      "Bizim sayimiz =  6\n",
      "Bizim sayimiz =  7\n",
      "Bizim sayimiz =  8\n",
      "Bizim sayimiz =  9\n",
      "Bizim sayimiz =  10\n",
      "sayimiz ondan büyük\n"
     ]
    }
   ],
   "source": [
    "x=0\n",
    "while x<10:\n",
    "    x+=1\n",
    "    if x==5:\n",
    "        continue\n",
    "    print(\"Bizim sayimiz = \", x)\n",
    "    \n",
    "else:\n",
    "    print(\"sayimiz ondan büyük\")"
   ]
  },
  {
   "cell_type": "code",
   "execution_count": 65,
   "id": "a8c125ef",
   "metadata": {},
   "outputs": [],
   "source": [
    "sayilar=[1,2,4,5,6]"
   ]
  },
  {
   "cell_type": "code",
   "execution_count": 66,
   "id": "103dfd81",
   "metadata": {},
   "outputs": [
    {
     "data": {
      "text/plain": [
       "True"
      ]
     },
     "execution_count": 66,
     "metadata": {},
     "output_type": "execute_result"
    }
   ],
   "source": [
    "1 in sayilar"
   ]
  },
  {
   "cell_type": "code",
   "execution_count": 68,
   "id": "592318e9",
   "metadata": {},
   "outputs": [
    {
     "name": "stdout",
     "output_type": "stream",
     "text": [
      "sayımız = 1\n",
      "sayımız = 2\n",
      "sayımız = 4\n",
      "sayımız = 5\n",
      "sayımız = 6\n",
      "döngü bitti\n"
     ]
    }
   ],
   "source": [
    "for sayi in sayilar:\n",
    "    print(\"sayımız =\" , sayi)\n",
    "else:\n",
    "    print(\"döngü bitti\")"
   ]
  },
  {
   "cell_type": "code",
   "execution_count": 69,
   "id": "f54837d9",
   "metadata": {},
   "outputs": [],
   "source": [
    "yeni=[1,2,3]"
   ]
  },
  {
   "cell_type": "code",
   "execution_count": 70,
   "id": "9f9d6733",
   "metadata": {},
   "outputs": [
    {
     "name": "stdout",
     "output_type": "stream",
     "text": [
      "1\n",
      "2\n",
      "3\n",
      "1\n",
      "2\n",
      "3\n",
      "1\n",
      "2\n",
      "3\n",
      "1\n",
      "2\n",
      "3\n",
      "1\n",
      "2\n",
      "3\n",
      "döngü bitti\n"
     ]
    }
   ],
   "source": [
    "for sayi in sayilar:\n",
    "    for x in yeni:\n",
    "        print(x)\n",
    "else:\n",
    "    print(\"döngü bitti\")\n",
    "        "
   ]
  },
  {
   "cell_type": "code",
   "execution_count": 71,
   "id": "bdec1e95",
   "metadata": {},
   "outputs": [
    {
     "name": "stdout",
     "output_type": "stream",
     "text": [
      "1\n",
      "2\n",
      "3\n",
      "4\n",
      "5\n",
      "6\n",
      "7\n",
      "8\n",
      "9\n",
      "10\n",
      "11\n",
      "12\n",
      "13\n",
      "14\n",
      "15\n",
      "16\n",
      "17\n",
      "18\n",
      "19\n"
     ]
    }
   ],
   "source": [
    "for i in range(1,20):\n",
    "    print(i)"
   ]
  },
  {
   "cell_type": "code",
   "execution_count": 72,
   "id": "895873dd",
   "metadata": {},
   "outputs": [
    {
     "name": "stdout",
     "output_type": "stream",
     "text": [
      "1\n",
      "3\n",
      "5\n",
      "7\n",
      "9\n",
      "11\n",
      "13\n",
      "15\n",
      "17\n",
      "19\n"
     ]
    }
   ],
   "source": [
    "for i in range(1,20,2):\n",
    "    print(i)"
   ]
  },
  {
   "cell_type": "code",
   "execution_count": 73,
   "id": "41f8b28b",
   "metadata": {},
   "outputs": [
    {
     "data": {
      "text/plain": [
       "[5, 7, 9, 11, 13, 15, 17, 19]"
      ]
     },
     "execution_count": 73,
     "metadata": {},
     "output_type": "execute_result"
    }
   ],
   "source": [
    "list(range(5,20,2))"
   ]
  },
  {
   "cell_type": "code",
   "execution_count": 74,
   "id": "cdc6c57d",
   "metadata": {},
   "outputs": [],
   "source": [
    "renkler=[\"sarı\",\"yeşil\",\"kırmızı\",\"mavi\"]"
   ]
  },
  {
   "cell_type": "code",
   "execution_count": 75,
   "id": "786a31f3",
   "metadata": {},
   "outputs": [
    {
     "name": "stdout",
     "output_type": "stream",
     "text": [
      "sarı\n",
      "yeşil\n",
      "kırmızı\n",
      "mavi\n"
     ]
    }
   ],
   "source": [
    "for renk in renkler:\n",
    "    print(renk)"
   ]
  },
  {
   "cell_type": "markdown",
   "id": "bc710c9a",
   "metadata": {},
   "source": [
    "### FONKSİYONLAR(FUNCTIONS)"
   ]
  },
  {
   "cell_type": "code",
   "execution_count": 1,
   "id": "e820944e",
   "metadata": {},
   "outputs": [],
   "source": [
    "def kare_al(x):\n",
    "    print(x**2)"
   ]
  },
  {
   "cell_type": "code",
   "execution_count": 2,
   "id": "b2b55afd",
   "metadata": {},
   "outputs": [
    {
     "name": "stdout",
     "output_type": "stream",
     "text": [
      "9\n"
     ]
    }
   ],
   "source": [
    "kare_al(3)"
   ]
  },
  {
   "cell_type": "code",
   "execution_count": 3,
   "id": "a5f63f09",
   "metadata": {},
   "outputs": [],
   "source": [
    "def alan(r,pi):\n",
    "    print(pi*r**2)"
   ]
  },
  {
   "cell_type": "code",
   "execution_count": 5,
   "id": "d8171cb7",
   "metadata": {},
   "outputs": [
    {
     "name": "stdout",
     "output_type": "stream",
     "text": [
      "50.24\n"
     ]
    }
   ],
   "source": [
    "alan(4,3.14)"
   ]
  },
  {
   "cell_type": "code",
   "execution_count": 6,
   "id": "a887e2f4",
   "metadata": {},
   "outputs": [],
   "source": [
    "def alan(r,pi=3.14):\n",
    "    print(pi*r**2)"
   ]
  },
  {
   "cell_type": "code",
   "execution_count": 7,
   "id": "d547c2fd",
   "metadata": {},
   "outputs": [
    {
     "name": "stdout",
     "output_type": "stream",
     "text": [
      "Üsame/Gül\n"
     ]
    }
   ],
   "source": [
    "print(\"Üsame\",\"Gül\",sep=\"/\")"
   ]
  },
  {
   "cell_type": "code",
   "execution_count": 8,
   "id": "b972b5d9",
   "metadata": {},
   "outputs": [
    {
     "name": "stdout",
     "output_type": "stream",
     "text": [
      "113.04\n",
      "200.96\n"
     ]
    }
   ],
   "source": [
    "a1=alan(6)\n",
    "a2=alan(8)"
   ]
  },
  {
   "cell_type": "code",
   "execution_count": 9,
   "id": "8e294b66",
   "metadata": {},
   "outputs": [
    {
     "ename": "TypeError",
     "evalue": "unsupported operand type(s) for +: 'NoneType' and 'NoneType'",
     "output_type": "error",
     "traceback": [
      "\u001b[1;31m---------------------------------------------------------------------------\u001b[0m",
      "\u001b[1;31mTypeError\u001b[0m                                 Traceback (most recent call last)",
      "\u001b[1;32m~\\AppData\\Local\\Temp/ipykernel_17024/4064069160.py\u001b[0m in \u001b[0;36m<module>\u001b[1;34m\u001b[0m\n\u001b[1;32m----> 1\u001b[1;33m \u001b[0ma1\u001b[0m\u001b[1;33m+\u001b[0m\u001b[0ma2\u001b[0m\u001b[1;33m\u001b[0m\u001b[1;33m\u001b[0m\u001b[0m\n\u001b[0m",
      "\u001b[1;31mTypeError\u001b[0m: unsupported operand type(s) for +: 'NoneType' and 'NoneType'"
     ]
    }
   ],
   "source": [
    "a1+a2"
   ]
  },
  {
   "cell_type": "markdown",
   "id": "105baf06",
   "metadata": {},
   "source": [
    "return, fonk çıktısı ile işlem yapmaya yarar."
   ]
  },
  {
   "cell_type": "code",
   "execution_count": 12,
   "id": "3cdb3309",
   "metadata": {},
   "outputs": [],
   "source": [
    "def alan(r,pi=3.14):\n",
    "    return(pi*r**2)"
   ]
  },
  {
   "cell_type": "code",
   "execution_count": 13,
   "id": "2590f071",
   "metadata": {},
   "outputs": [],
   "source": [
    "a1=alan(6)\n",
    "a2=alan(8)"
   ]
  },
  {
   "cell_type": "code",
   "execution_count": 14,
   "id": "cd0c26cf",
   "metadata": {},
   "outputs": [
    {
     "data": {
      "text/plain": [
       "314.0"
      ]
     },
     "execution_count": 14,
     "metadata": {},
     "output_type": "execute_result"
    }
   ],
   "source": [
    "a1+a2"
   ]
  },
  {
   "cell_type": "code",
   "execution_count": 15,
   "id": "66b5915d",
   "metadata": {},
   "outputs": [],
   "source": [
    "def cift_mi(x):\n",
    "    if x%2==0:\n",
    "        print(\"bu sayi çifttir\")"
   ]
  },
  {
   "cell_type": "code",
   "execution_count": 16,
   "id": "76f83449",
   "metadata": {},
   "outputs": [
    {
     "name": "stdout",
     "output_type": "stream",
     "text": [
      "bu sayi çifttir\n"
     ]
    }
   ],
   "source": [
    "cift_mi(10)"
   ]
  },
  {
   "cell_type": "code",
   "execution_count": 17,
   "id": "4a0db9cc",
   "metadata": {},
   "outputs": [],
   "source": [
    "cft=cift_mi(5)"
   ]
  },
  {
   "cell_type": "code",
   "execution_count": 18,
   "id": "b5dbd5f4",
   "metadata": {},
   "outputs": [
    {
     "data": {
      "text/plain": [
       "NoneType"
      ]
     },
     "execution_count": 18,
     "metadata": {},
     "output_type": "execute_result"
    }
   ],
   "source": [
    "type(cft)"
   ]
  },
  {
   "cell_type": "markdown",
   "id": "1dd1af56",
   "metadata": {},
   "source": [
    "*args and **kwargs\n",
    "args\n",
    " birden fazla parametre girmek için kullanılır.\n",
    " tuple çıktısı verir.\n",
    " \n",
    "kwargs\n",
    "dictionary ciktisi verir."
   ]
  },
  {
   "cell_type": "markdown",
   "id": "dc9f7f2b",
   "metadata": {},
   "source": [
    "### Arbitrary Arguments, *args"
   ]
  },
  {
   "cell_type": "code",
   "execution_count": 23,
   "id": "750759b6",
   "metadata": {},
   "outputs": [],
   "source": [
    "def topla(*args):\n",
    "    toplam=0\n",
    "    for i in args:\n",
    "        toplam=toplam+i\n",
    "    print(toplam)"
   ]
  },
  {
   "cell_type": "code",
   "execution_count": 24,
   "id": "a1a03454",
   "metadata": {},
   "outputs": [
    {
     "name": "stdout",
     "output_type": "stream",
     "text": [
      "29\n"
     ]
    }
   ],
   "source": [
    "topla(6,7,8,5,3)"
   ]
  },
  {
   "cell_type": "markdown",
   "id": "f3f3f2f7",
   "metadata": {},
   "source": [
    "### Keyword Arguments, **kwargs\n"
   ]
  },
  {
   "cell_type": "code",
   "execution_count": 27,
   "id": "6e667133",
   "metadata": {},
   "outputs": [],
   "source": [
    "def kimlik(**kwargs):\n",
    "    print(\"kwargs:\",kwargs)"
   ]
  },
  {
   "cell_type": "code",
   "execution_count": 28,
   "id": "851132e6",
   "metadata": {},
   "outputs": [
    {
     "name": "stdout",
     "output_type": "stream",
     "text": [
      "kwargs: {'isim': 'Mehmet', 'soyisim': 'Tuna'}\n"
     ]
    }
   ],
   "source": [
    "kimlik(isim=\"Mehmet\",soyisim=\"Tuna\")"
   ]
  },
  {
   "cell_type": "code",
   "execution_count": 29,
   "id": "2dc93076",
   "metadata": {},
   "outputs": [],
   "source": [
    "def kimlik(**kwargs):\n",
    "    for key,value in kwargs.items():\n",
    "        print(\"anahtarlar: \",key, \"değerler: \", value )\n",
    "    print(\"kwargs:\",kwargs)"
   ]
  },
  {
   "cell_type": "code",
   "execution_count": 30,
   "id": "5cecbece",
   "metadata": {},
   "outputs": [
    {
     "name": "stdout",
     "output_type": "stream",
     "text": [
      "anahtarlar:  isim değerler:  Mehmet\n",
      "anahtarlar:  soyisim değerler:  Tuna\n",
      "kwargs: {'isim': 'Mehmet', 'soyisim': 'Tuna'}\n"
     ]
    }
   ],
   "source": [
    "kimlik(isim=\"Mehmet\",soyisim=\"Tuna\")"
   ]
  },
  {
   "cell_type": "code",
   "execution_count": 31,
   "id": "c6d2f740",
   "metadata": {},
   "outputs": [],
   "source": [
    "def yeni(*args,**kwargs):\n",
    "    print(\"args:\",args,\"kwargs: \",kwargs)"
   ]
  },
  {
   "cell_type": "code",
   "execution_count": 32,
   "id": "e3bdffff",
   "metadata": {},
   "outputs": [
    {
     "name": "stdout",
     "output_type": "stream",
     "text": [
      "args: (1, 2, 3, 4, 5, 6) kwargs:  {'isim': 'üsame,', 'soyisim': 'gül'}\n"
     ]
    }
   ],
   "source": [
    "yeni(1,2,3,4,5,6,isim=\"üsame,\",soyisim=\"gül\")"
   ]
  },
  {
   "cell_type": "code",
   "execution_count": 33,
   "id": "c3ecb472",
   "metadata": {},
   "outputs": [],
   "source": [
    "def birlestir(**kwargs):\n",
    "    son=\"\"\n",
    "    for kelime in kwargs.values():\n",
    "        son=son+kelime\n",
    "    return son     "
   ]
  },
  {
   "cell_type": "code",
   "execution_count": 35,
   "id": "e4e38c44",
   "metadata": {},
   "outputs": [
    {
     "data": {
      "text/plain": [
       "'python dünyanin en iyi dilidir.'"
      ]
     },
     "execution_count": 35,
     "metadata": {},
     "output_type": "execute_result"
    }
   ],
   "source": [
    "birlestir(a=\"python \",b=\"dünyanin \",c=\"en iyi dilidir.\")"
   ]
  },
  {
   "cell_type": "markdown",
   "id": "9370bcd6",
   "metadata": {},
   "source": [
    "### Global and  Local Variables"
   ]
  },
  {
   "cell_type": "markdown",
   "id": "dc35d4eb",
   "metadata": {},
   "source": [
    "fonk icinde tanımlanan local\n",
    "fonk dısında ise global"
   ]
  },
  {
   "cell_type": "code",
   "execution_count": 42,
   "id": "12f0a403",
   "metadata": {},
   "outputs": [
    {
     "name": "stdout",
     "output_type": "stream",
     "text": [
      "10\n"
     ]
    }
   ],
   "source": [
    "x=10\n",
    "def fonk():\n",
    "    x=5\n",
    "    print(x)\n",
    "print(x)    "
   ]
  },
  {
   "cell_type": "code",
   "execution_count": 40,
   "id": "4d5e047a",
   "metadata": {},
   "outputs": [
    {
     "name": "stdout",
     "output_type": "stream",
     "text": [
      "5\n"
     ]
    }
   ],
   "source": [
    "fonk()"
   ]
  },
  {
   "cell_type": "markdown",
   "id": "3dd3d166",
   "metadata": {},
   "source": [
    "### Lambda functions"
   ]
  },
  {
   "cell_type": "code",
   "execution_count": 43,
   "id": "23f24e27",
   "metadata": {},
   "outputs": [],
   "source": [
    "def kare(x):\n",
    "    return x**2"
   ]
  },
  {
   "cell_type": "code",
   "execution_count": 44,
   "id": "3e2230b1",
   "metadata": {},
   "outputs": [
    {
     "data": {
      "text/plain": [
       "64"
      ]
     },
     "execution_count": 44,
     "metadata": {},
     "output_type": "execute_result"
    }
   ],
   "source": [
    "kare(8)"
   ]
  },
  {
   "cell_type": "code",
   "execution_count": 45,
   "id": "c133e63a",
   "metadata": {},
   "outputs": [],
   "source": [
    "y=lambda x:x**2"
   ]
  },
  {
   "cell_type": "code",
   "execution_count": 46,
   "id": "22ecfbe1",
   "metadata": {},
   "outputs": [
    {
     "data": {
      "text/plain": [
       "25"
      ]
     },
     "execution_count": 46,
     "metadata": {},
     "output_type": "execute_result"
    }
   ],
   "source": [
    "y(5)"
   ]
  },
  {
   "cell_type": "markdown",
   "id": "ea52ad7b",
   "metadata": {},
   "source": [
    "### Filter fonksiyonu"
   ]
  },
  {
   "cell_type": "code",
   "execution_count": 47,
   "id": "b792e33d",
   "metadata": {},
   "outputs": [
    {
     "data": {
      "text/plain": [
       "[2, 4, 6]"
      ]
     },
     "execution_count": 47,
     "metadata": {},
     "output_type": "execute_result"
    }
   ],
   "source": [
    "x=[1,2,3,4,5,6]\n",
    "list(filter(lambda x:(x%2==0),x))"
   ]
  },
  {
   "cell_type": "markdown",
   "id": "8875e35a",
   "metadata": {},
   "source": [
    "### Map fonksiyonu\n",
    "ne kadar değer girdiysek o kadar çıktı verir"
   ]
  },
  {
   "cell_type": "code",
   "execution_count": 48,
   "id": "16744bb3",
   "metadata": {},
   "outputs": [
    {
     "data": {
      "text/plain": [
       "[1, 4, 9, 16, 25, 36, 49, 64, 81]"
      ]
     },
     "execution_count": 48,
     "metadata": {},
     "output_type": "execute_result"
    }
   ],
   "source": [
    "x=[1,2,3,4,5,6,7,8,9]\n",
    "list(map(lambda x:x**2 , x))"
   ]
  },
  {
   "cell_type": "markdown",
   "id": "740f5aa8",
   "metadata": {},
   "source": [
    "### Gömülü fonksiyonlar - Built in Func."
   ]
  },
  {
   "cell_type": "code",
   "execution_count": 49,
   "id": "a8c9fc92",
   "metadata": {},
   "outputs": [
    {
     "data": {
      "text/plain": [
       "7.5"
      ]
     },
     "execution_count": 49,
     "metadata": {},
     "output_type": "execute_result"
    }
   ],
   "source": [
    "abs(-7.5)"
   ]
  },
  {
   "cell_type": "code",
   "execution_count": 50,
   "id": "92103397",
   "metadata": {},
   "outputs": [
    {
     "data": {
      "text/plain": [
       "'0b100'"
      ]
     },
     "execution_count": 50,
     "metadata": {},
     "output_type": "execute_result"
    }
   ],
   "source": [
    "bin(4)"
   ]
  },
  {
   "cell_type": "code",
   "execution_count": 51,
   "id": "3103a16d",
   "metadata": {},
   "outputs": [],
   "source": [
    "renkler=[\"sarı\",\"yeşil\",\"beyz\",\"kırmızı\"]"
   ]
  },
  {
   "cell_type": "code",
   "execution_count": 52,
   "id": "7754dec8",
   "metadata": {},
   "outputs": [],
   "source": [
    "z=enumerate(renkler)"
   ]
  },
  {
   "cell_type": "code",
   "execution_count": 54,
   "id": "6cd38186",
   "metadata": {},
   "outputs": [
    {
     "data": {
      "text/plain": [
       "[(0, 'sarı'), (1, 'yeşil'), (2, 'beyz'), (3, 'kırmızı')]"
      ]
     },
     "execution_count": 54,
     "metadata": {},
     "output_type": "execute_result"
    }
   ],
   "source": [
    "list(z)"
   ]
  },
  {
   "cell_type": "code",
   "execution_count": 55,
   "id": "9108358c",
   "metadata": {},
   "outputs": [
    {
     "name": "stdout",
     "output_type": "stream",
     "text": [
      "0 sarı\n",
      "1 yeşil\n",
      "2 beyz\n",
      "3 kırmızı\n"
     ]
    }
   ],
   "source": [
    "for index,renk in enumerate(renkler):\n",
    "    print(index,renk)"
   ]
  },
  {
   "cell_type": "code",
   "execution_count": 56,
   "id": "647fb1b4",
   "metadata": {},
   "outputs": [
    {
     "data": {
      "text/plain": [
       "7"
      ]
     },
     "execution_count": 56,
     "metadata": {},
     "output_type": "execute_result"
    }
   ],
   "source": [
    "max(5,6,7)"
   ]
  },
  {
   "cell_type": "code",
   "execution_count": 57,
   "id": "bd398e08",
   "metadata": {},
   "outputs": [
    {
     "data": {
      "text/plain": [
       "1"
      ]
     },
     "execution_count": 57,
     "metadata": {},
     "output_type": "execute_result"
    }
   ],
   "source": [
    "min(1,2,33,24,34,432,35,4,456,335)"
   ]
  },
  {
   "cell_type": "code",
   "execution_count": 58,
   "id": "3de03477",
   "metadata": {},
   "outputs": [],
   "source": [
    "k=[\"a\",\"b\",\"c\"]"
   ]
  },
  {
   "cell_type": "code",
   "execution_count": 59,
   "id": "1b77d06a",
   "metadata": {},
   "outputs": [
    {
     "data": {
      "text/plain": [
       "'c'"
      ]
     },
     "execution_count": 59,
     "metadata": {},
     "output_type": "execute_result"
    }
   ],
   "source": [
    "max(k)"
   ]
  },
  {
   "cell_type": "code",
   "execution_count": 60,
   "id": "25dc119b",
   "metadata": {},
   "outputs": [
    {
     "data": {
      "text/plain": [
       "128"
      ]
     },
     "execution_count": 60,
     "metadata": {},
     "output_type": "execute_result"
    }
   ],
   "source": [
    "pow(2,7)"
   ]
  },
  {
   "cell_type": "code",
   "execution_count": 61,
   "id": "4067a97f",
   "metadata": {},
   "outputs": [
    {
     "data": {
      "text/plain": [
       "0"
      ]
     },
     "execution_count": 61,
     "metadata": {},
     "output_type": "execute_result"
    }
   ],
   "source": [
    "pow(2,3,2)"
   ]
  },
  {
   "cell_type": "code",
   "execution_count": 62,
   "id": "fc9fc791",
   "metadata": {},
   "outputs": [],
   "source": [
    "x=[1,2,3,44,5,6,7]"
   ]
  },
  {
   "cell_type": "code",
   "execution_count": 64,
   "id": "6bd0c2c0",
   "metadata": {},
   "outputs": [],
   "source": [
    "h=reversed(x)"
   ]
  },
  {
   "cell_type": "code",
   "execution_count": 66,
   "id": "0607d070",
   "metadata": {},
   "outputs": [
    {
     "data": {
      "text/plain": [
       "[7, 6, 5, 44, 3, 2, 1]"
      ]
     },
     "execution_count": 66,
     "metadata": {},
     "output_type": "execute_result"
    }
   ],
   "source": [
    "list(h)"
   ]
  },
  {
   "cell_type": "code",
   "execution_count": 67,
   "id": "b59ea993",
   "metadata": {},
   "outputs": [
    {
     "data": {
      "text/plain": [
       "3"
      ]
     },
     "execution_count": 67,
     "metadata": {},
     "output_type": "execute_result"
    }
   ],
   "source": [
    "round(3.14)"
   ]
  },
  {
   "cell_type": "code",
   "execution_count": 68,
   "id": "9f4ca8d8",
   "metadata": {},
   "outputs": [
    {
     "data": {
      "text/plain": [
       "4"
      ]
     },
     "execution_count": 68,
     "metadata": {},
     "output_type": "execute_result"
    }
   ],
   "source": [
    "round(3.5)"
   ]
  },
  {
   "cell_type": "code",
   "execution_count": 69,
   "id": "0929a8dc",
   "metadata": {},
   "outputs": [],
   "source": [
    "l=[\"a\",\"c\",\"b\",\"f\",\"d\"]"
   ]
  },
  {
   "cell_type": "code",
   "execution_count": 70,
   "id": "46a80ca0",
   "metadata": {},
   "outputs": [
    {
     "data": {
      "text/plain": [
       "['a', 'b', 'c', 'd', 'f']"
      ]
     },
     "execution_count": 70,
     "metadata": {},
     "output_type": "execute_result"
    }
   ],
   "source": [
    "sorted(l)"
   ]
  },
  {
   "cell_type": "code",
   "execution_count": 71,
   "id": "923bc2f8",
   "metadata": {},
   "outputs": [
    {
     "data": {
      "text/plain": [
       "68"
      ]
     },
     "execution_count": 71,
     "metadata": {},
     "output_type": "execute_result"
    }
   ],
   "source": [
    "sum(x)"
   ]
  },
  {
   "cell_type": "code",
   "execution_count": 75,
   "id": "473970f1",
   "metadata": {},
   "outputs": [],
   "source": [
    "q=zip(x,l)"
   ]
  },
  {
   "cell_type": "code",
   "execution_count": 76,
   "id": "afd326f8",
   "metadata": {},
   "outputs": [
    {
     "data": {
      "text/plain": [
       "[(1, 'a'), (2, 'c'), (3, 'b'), (44, 'f'), (5, 'd')]"
      ]
     },
     "execution_count": 76,
     "metadata": {},
     "output_type": "execute_result"
    }
   ],
   "source": [
    "list(q)"
   ]
  },
  {
   "cell_type": "markdown",
   "id": "fe942667",
   "metadata": {},
   "source": [
    "# NESNE TABANLI PROGRAMLAMA - OOP"
   ]
  },
  {
   "cell_type": "code",
   "execution_count": 77,
   "id": "63289bd5",
   "metadata": {},
   "outputs": [],
   "source": [
    "class Ogrenci:\n",
    "    isim=\"Üsame\"\n",
    "    soyisim=\"Gül\"\n",
    "    yas=21\n",
    "    not_ort=100"
   ]
  },
  {
   "cell_type": "code",
   "execution_count": 78,
   "id": "3aa3f0f1",
   "metadata": {},
   "outputs": [],
   "source": [
    "bir=Ogrenci()"
   ]
  },
  {
   "cell_type": "code",
   "execution_count": 79,
   "id": "7c1f79a3",
   "metadata": {},
   "outputs": [
    {
     "data": {
      "text/plain": [
       "'Üsame'"
      ]
     },
     "execution_count": 79,
     "metadata": {},
     "output_type": "execute_result"
    }
   ],
   "source": [
    "bir.isim"
   ]
  },
  {
   "cell_type": "markdown",
   "id": "d8738acd",
   "metadata": {},
   "source": [
    "### Initializer or Constructor"
   ]
  },
  {
   "cell_type": "code",
   "execution_count": null,
   "id": "d0955a03",
   "metadata": {},
   "outputs": [],
   "source": [
    "Python da bir nesne çağırdığınızda otomatik olarak çalışacak ve sadece nesneyi ilk oluşturduğunuzda çalışacak olan bir fonksiyon tanımlayabilirsiniz.\n",
    "Bu fonksiyonun adı Python yapımcıları tarafından __init__() olarak belirlenmiş.\n",
    "\n",
    "Dışarıdan ulaşılmasını istediğimiz her fonksiyona self parametresini eklememiz gerektiğini de belirtelim."
   ]
  },
  {
   "cell_type": "code",
   "execution_count": null,
   "id": "f1ffcbac",
   "metadata": {},
   "outputs": [],
   "source": [
    "class Ogrenci:\n",
    "    def__init__(self,isim,soyisim,yas,not_ort):\n",
    "        self.nesnenin_isim=isim\n",
    "        self.nesnenin_soyisim=soyisim\n",
    "        self.nesnenin_yas=yas\n",
    "        self.nesnenin_not_ort=not_ort"
   ]
  },
  {
   "cell_type": "code",
   "execution_count": 2,
   "id": "db880b24",
   "metadata": {},
   "outputs": [],
   "source": [
    "class Ogrenci:\n",
    "    def __init__(self,isim,soyisim,yas,not_ort):\n",
    "        self.isim=isim\n",
    "        self.soyisim=soyisim\n",
    "        self.yas=yas\n",
    "        self.not_ort=not_ort\n",
    "        "
   ]
  },
  {
   "cell_type": "code",
   "execution_count": 3,
   "id": "8d5dfd84",
   "metadata": {},
   "outputs": [],
   "source": [
    "bir= Ogrenci(\"üsame\",\"gül\",19,90)"
   ]
  },
  {
   "cell_type": "code",
   "execution_count": 4,
   "id": "af8dc9f4",
   "metadata": {},
   "outputs": [
    {
     "data": {
      "text/plain": [
       "'üsame'"
      ]
     },
     "execution_count": 4,
     "metadata": {},
     "output_type": "execute_result"
    }
   ],
   "source": [
    "bir.isim"
   ]
  },
  {
   "cell_type": "markdown",
   "id": "3ff166fe",
   "metadata": {},
   "source": [
    "sınıfın içersinde tanımlı ise method  , dışında ise fonksiyon oluyor."
   ]
  },
  {
   "cell_type": "code",
   "execution_count": 8,
   "id": "3b816662",
   "metadata": {},
   "outputs": [],
   "source": [
    "class Ogrenci:\n",
    "    def __init__(self,isim,soyisim,yas,not_ort):\n",
    "        self.isim=isim\n",
    "        self.soyisim=soyisim\n",
    "        self.yas=yas\n",
    "        self.not_ort=not_ort\n",
    "    def info(self):\n",
    "        print(\"{} {}  {} yaşında ve not ortalaması {} tir. \".format(self.isim,self.soyisim,self.yas,self.not_ort))"
   ]
  },
  {
   "cell_type": "code",
   "execution_count": 9,
   "id": "1df55b2a",
   "metadata": {},
   "outputs": [],
   "source": [
    "iki=Ogrenci(\"ali\",\"yılmaz\",18,95)"
   ]
  },
  {
   "cell_type": "code",
   "execution_count": 10,
   "id": "2f3fa08c",
   "metadata": {},
   "outputs": [
    {
     "name": "stdout",
     "output_type": "stream",
     "text": [
      "ali yılmaz  18 yaşında ve not ortalaması 95 tir. \n"
     ]
    }
   ],
   "source": [
    "iki.info()"
   ]
  },
  {
   "cell_type": "code",
   "execution_count": 17,
   "id": "22e61e97",
   "metadata": {},
   "outputs": [],
   "source": [
    "class Ogretmen:\n",
    "    def __init__(self,isim,soyisim,yas,maas,uzmanlık):\n",
    "        self.isim=isim\n",
    "        self.soyisim=soyisim\n",
    "        self.yas=yas\n",
    "        self.maas=maas\n",
    "        self.uzmanlık=uzmanlık\n",
    "    def info(self):\n",
    "        print(\"{} {}  {} yaşında uzmanlığı maasi {} , uzmanlığı da {} tir. \".format(self.isim,self.soyisim,self.yas,self.maas,self.uzmanlık))\n",
    "        \n",
    "    def zam(self):\n",
    "        return self.maas * 1.3"
   ]
  },
  {
   "cell_type": "code",
   "execution_count": 18,
   "id": "f6bf0c52",
   "metadata": {},
   "outputs": [],
   "source": [
    "ali=Ogretmen(\"ali\",\"yıldız\",45,5000,\"Fizik\")"
   ]
  },
  {
   "cell_type": "code",
   "execution_count": 19,
   "id": "be4f67ad",
   "metadata": {},
   "outputs": [
    {
     "name": "stdout",
     "output_type": "stream",
     "text": [
      "ali yıldız  45 yaşında uzmanlığı maasi 5000 , uzmanlığı da Fizik tir. \n"
     ]
    }
   ],
   "source": [
    "ali.info()"
   ]
  },
  {
   "cell_type": "code",
   "execution_count": 20,
   "id": "99a0cdec",
   "metadata": {},
   "outputs": [
    {
     "data": {
      "text/plain": [
       "6500.0"
      ]
     },
     "execution_count": 20,
     "metadata": {},
     "output_type": "execute_result"
    }
   ],
   "source": [
    "ali.zam()"
   ]
  },
  {
   "cell_type": "markdown",
   "id": "3d5a30db",
   "metadata": {},
   "source": [
    "### Encapsulation(Kapsülleme-Erişim engelleme)"
   ]
  },
  {
   "cell_type": "code",
   "execution_count": null,
   "id": "f7d2c784",
   "metadata": {},
   "outputs": [],
   "source": [
    "class Ogretmen:\n",
    "    def __init__(self,isim,soyisim,yas,maas,uzmanlık):\n",
    "        self.isim=isim\n",
    "        self.soyisim=soyisim\n",
    "        self.yas=yas\n",
    "        self.__maas=maas #erişim engellendi\n",
    "        self.uzmanlık=uzmanlık\n",
    "    def info(self):\n",
    "        print(\"{} {}  {} yaşında uzmanlığı maasi {} , uzmanlığı da {} tir. \".format(self.isim,self.soyisim,self.yas,self.maas,self.uzmanlık))\n",
    "        \n",
    "    def zam(self):\n",
    "        return self.maas * 1.3"
   ]
  },
  {
   "cell_type": "code",
   "execution_count": 21,
   "id": "0b8a07b8",
   "metadata": {},
   "outputs": [
    {
     "ename": "AttributeError",
     "evalue": "'Ogretmen' object has no attribute '__maas'",
     "output_type": "error",
     "traceback": [
      "\u001b[1;31m---------------------------------------------------------------------------\u001b[0m",
      "\u001b[1;31mAttributeError\u001b[0m                            Traceback (most recent call last)",
      "\u001b[1;32m~\\AppData\\Local\\Temp/ipykernel_8104/1772648091.py\u001b[0m in \u001b[0;36m<module>\u001b[1;34m\u001b[0m\n\u001b[1;32m----> 1\u001b[1;33m \u001b[0mali\u001b[0m\u001b[1;33m.\u001b[0m\u001b[0m__maas\u001b[0m\u001b[1;33m\u001b[0m\u001b[1;33m\u001b[0m\u001b[0m\n\u001b[0m",
      "\u001b[1;31mAttributeError\u001b[0m: 'Ogretmen' object has no attribute '__maas'"
     ]
    }
   ],
   "source": [
    "ali.__maas\n"
   ]
  },
  {
   "cell_type": "code",
   "execution_count": 30,
   "id": "5c5183d2",
   "metadata": {},
   "outputs": [],
   "source": [
    "class Ogretmen:\n",
    "    def __init__(self,isim,soyisim,yas,maas,uzmanlık):\n",
    "        self.isim=isim\n",
    "        self.soyisim=soyisim\n",
    "        self.yas=yas\n",
    "        self.__maas=maas\n",
    "        self.uzmanlık=uzmanlık\n",
    "    def info(self):\n",
    "        print(\"{} {}  {} yaşında uzmanlığı maasi {} , uzmanlığı da {} tir. \".format(self.isim,self.soyisim,self.yas,self.maas,self.uzmanlık))\n",
    "        \n",
    "    def zam(self):\n",
    "        return self.maas * 1.3\n",
    "    def getMaas(self):\n",
    "        return self.__maas\n",
    "    def setMaas(self,yeni_maas):\n",
    "        self.__maas=yeni_maas"
   ]
  },
  {
   "cell_type": "code",
   "execution_count": 31,
   "id": "a3666a3a",
   "metadata": {},
   "outputs": [],
   "source": [
    "ali=Ogretmen(\"ali\",\"yıldız\",45,5000,\"Fizik\")"
   ]
  },
  {
   "cell_type": "code",
   "execution_count": 32,
   "id": "4c4be8cd",
   "metadata": {},
   "outputs": [
    {
     "data": {
      "text/plain": [
       "5000"
      ]
     },
     "execution_count": 32,
     "metadata": {},
     "output_type": "execute_result"
    }
   ],
   "source": [
    "ali.getMaas()"
   ]
  },
  {
   "cell_type": "code",
   "execution_count": 34,
   "id": "50d9f84c",
   "metadata": {},
   "outputs": [],
   "source": [
    "ali.setMaas(10000)"
   ]
  },
  {
   "cell_type": "code",
   "execution_count": 35,
   "id": "61a2bbd2",
   "metadata": {},
   "outputs": [
    {
     "data": {
      "text/plain": [
       "10000"
      ]
     },
     "execution_count": 35,
     "metadata": {},
     "output_type": "execute_result"
    }
   ],
   "source": [
    "ali.getMaas()"
   ]
  },
  {
   "cell_type": "markdown",
   "id": "32ad4ccb",
   "metadata": {},
   "source": [
    "aynı şekilde methodların da erişimini engelleyebiliriz örn def __zam():"
   ]
  },
  {
   "cell_type": "markdown",
   "id": "a22a920b",
   "metadata": {},
   "source": [
    "### Inheritance(Kalıtım)"
   ]
  },
  {
   "cell_type": "markdown",
   "id": "05643257",
   "metadata": {},
   "source": [
    "-Aynı özellik ve metodları tekrar etmemek için bir ana sınıf oluşturuyoruz.Alt sınıftan bazı özellik ve metodları miras alıyor\n",
    "-İsterseniz alt sınıfa istediğiniz özelliği ve metodu ekleyebilirsiniz.\n",
    "-super().__init__() ile anna sınıfın özelliklerini alabiliriz."
   ]
  },
  {
   "cell_type": "code",
   "execution_count": 36,
   "id": "6c5a2073",
   "metadata": {},
   "outputs": [],
   "source": [
    "class Okul:\n",
    "    def __init__(self,isim,soyisim,yas):\n",
    "        self.isim=isim\n",
    "        self.soyisim=soyisim\n",
    "        self.yas=yas\n",
    "        print(\"Okul sınıfı çalıştı.\")"
   ]
  },
  {
   "cell_type": "code",
   "execution_count": 37,
   "id": "2789ca7c",
   "metadata": {},
   "outputs": [
    {
     "name": "stdout",
     "output_type": "stream",
     "text": [
      "Okul sınıfı çalıştı.\n"
     ]
    }
   ],
   "source": [
    "ahmet=Okul(\"ahmet\",\"sağlam\",45)"
   ]
  },
  {
   "cell_type": "code",
   "execution_count": 39,
   "id": "8678fe1d",
   "metadata": {},
   "outputs": [
    {
     "data": {
      "text/plain": [
       "'ahmet'"
      ]
     },
     "execution_count": 39,
     "metadata": {},
     "output_type": "execute_result"
    }
   ],
   "source": [
    "ahmet.isim"
   ]
  },
  {
   "cell_type": "code",
   "execution_count": 40,
   "id": "478da9ba",
   "metadata": {},
   "outputs": [],
   "source": [
    "class Ogretmen(Okul):\n",
    "    def __init__(self,isim,soyisim,yas):\n",
    "        super().__init__(isim,soyisim,yas)\n",
    "        print(\"Ogretmen sinifi calisti\")"
   ]
  },
  {
   "cell_type": "code",
   "execution_count": 41,
   "id": "59ea46f5",
   "metadata": {},
   "outputs": [
    {
     "name": "stdout",
     "output_type": "stream",
     "text": [
      "Okul sınıfı çalıştı.\n",
      "Ogretmen sinifi calisti\n"
     ]
    }
   ],
   "source": [
    "semih=Ogretmen(\"semih\",\"saygın\",28)"
   ]
  },
  {
   "cell_type": "code",
   "execution_count": 47,
   "id": "30849ba8",
   "metadata": {},
   "outputs": [],
   "source": [
    "class Ogretmen(Okul):\n",
    "    def __init__(self,isim,soyisim,yas,maas,uzmanlık):\n",
    "        super().__init__(isim,soyisim,yas)\n",
    "        self.maas=maas\n",
    "        self.uzmanlık=uzmanlık\n",
    "        print(\"Ogretmen sinifi calisti\")\n",
    "    def info(self):\n",
    "        print(\"{} {}  {} yaşında  maasi {} , uzmanlığı da {} tir. \".format(self.isim,self.soyisim,self.yas,self.maas,self.uzmanlık))    "
   ]
  },
  {
   "cell_type": "code",
   "execution_count": 48,
   "id": "6c139a6e",
   "metadata": {},
   "outputs": [
    {
     "name": "stdout",
     "output_type": "stream",
     "text": [
      "Okul sınıfı çalıştı.\n",
      "Ogretmen sinifi calisti\n"
     ]
    }
   ],
   "source": [
    "semihh=Ogretmen(\"Semih\",\"saygıner\",45,6500,\"Kimya\")"
   ]
  },
  {
   "cell_type": "code",
   "execution_count": 49,
   "id": "916659ed",
   "metadata": {},
   "outputs": [
    {
     "name": "stdout",
     "output_type": "stream",
     "text": [
      "Semih saygıner  45 yaşında  maasi 6500 , uzmanlığı da Kimya tir. \n"
     ]
    }
   ],
   "source": [
    "semihh.info()"
   ]
  },
  {
   "cell_type": "markdown",
   "id": "e8ebc363",
   "metadata": {},
   "source": [
    "### Abstract Class(Soyut Sınıflar) "
   ]
  },
  {
   "cell_type": "markdown",
   "id": "222df3be",
   "metadata": {},
   "source": [
    "Soyut sınıftan bir nesne üretilemez.\n",
    "alt sınıflardan bir nesne üretilir."
   ]
  },
  {
   "cell_type": "code",
   "execution_count": 56,
   "id": "60f64681",
   "metadata": {},
   "outputs": [],
   "source": [
    "from abc import ABC,abstractmethod\n",
    "\n",
    "class Hayvan(ABC):\n",
    "    @abstractmethod\n",
    "    def yuru(self):\n",
    "        print(\"Hayvan yürüyor...\")\n",
    "    def kos(self):\n",
    "        print(\"Hayvan kosuyor...\")"
   ]
  },
  {
   "cell_type": "code",
   "execution_count": 57,
   "id": "04fb33ea",
   "metadata": {},
   "outputs": [
    {
     "ename": "TypeError",
     "evalue": "Can't instantiate abstract class Hayvan with abstract method yuru",
     "output_type": "error",
     "traceback": [
      "\u001b[1;31m---------------------------------------------------------------------------\u001b[0m",
      "\u001b[1;31mTypeError\u001b[0m                                 Traceback (most recent call last)",
      "\u001b[1;32m~\\AppData\\Local\\Temp/ipykernel_8104/2118156592.py\u001b[0m in \u001b[0;36m<module>\u001b[1;34m\u001b[0m\n\u001b[1;32m----> 1\u001b[1;33m \u001b[0maslan\u001b[0m\u001b[1;33m=\u001b[0m\u001b[0mHayvan\u001b[0m\u001b[1;33m(\u001b[0m\u001b[1;33m)\u001b[0m\u001b[1;33m\u001b[0m\u001b[1;33m\u001b[0m\u001b[0m\n\u001b[0m",
      "\u001b[1;31mTypeError\u001b[0m: Can't instantiate abstract class Hayvan with abstract method yuru"
     ]
    }
   ],
   "source": [
    "aslan=Hayvan()"
   ]
  },
  {
   "cell_type": "code",
   "execution_count": 58,
   "id": "f881e694",
   "metadata": {},
   "outputs": [
    {
     "name": "stdout",
     "output_type": "stream",
     "text": [
      "Hayvan yürüyor...\n"
     ]
    }
   ],
   "source": [
    "aslan.yuru()"
   ]
  },
  {
   "cell_type": "code",
   "execution_count": 4,
   "id": "8d97f484",
   "metadata": {},
   "outputs": [],
   "source": [
    "from abc import ABC,abstractmethod\n",
    "\n",
    "class Hayvan(ABC):\n",
    "    @abstractmethod\n",
    "    def yuru(self):\n",
    "        print(\"Hayvan yürüyor...\")\n",
    "    @abstractmethod\n",
    "    def kos(self):\n",
    "        print(\"Hayvan kosuyor...\")\n",
    "        \n",
    "        \n",
    "class Aslan(Hayvan):\n",
    "    def yuru(self):\n",
    "        print(\"Aslan yürüyor...\")\n",
    "    def kos(self):\n",
    "        print(\"Aslan koşuyor...\")"
   ]
  },
  {
   "cell_type": "code",
   "execution_count": 5,
   "id": "9eecccf0",
   "metadata": {},
   "outputs": [],
   "source": [
    "aslan_object=Aslan()"
   ]
  },
  {
   "cell_type": "code",
   "execution_count": 6,
   "id": "e7537ee2",
   "metadata": {},
   "outputs": [
    {
     "name": "stdout",
     "output_type": "stream",
     "text": [
      "Aslan yürüyor...\n"
     ]
    }
   ],
   "source": [
    "aslan_object.yuru()"
   ]
  },
  {
   "cell_type": "code",
   "execution_count": 7,
   "id": "f7402534",
   "metadata": {},
   "outputs": [
    {
     "name": "stdout",
     "output_type": "stream",
     "text": [
      "Aslan koşuyor...\n"
     ]
    }
   ],
   "source": [
    "aslan_object.kos()"
   ]
  },
  {
   "cell_type": "markdown",
   "id": "1dfe8a83",
   "metadata": {},
   "source": [
    "### Overriding(Üzerine yazma "
   ]
  },
  {
   "cell_type": "code",
   "execution_count": 11,
   "id": "18abf962",
   "metadata": {},
   "outputs": [],
   "source": [
    "class Okul:\n",
    "    def __init__(self,isim,soyisim,yas):\n",
    "        self.isim=isim\n",
    "        self.soyisim=soyisim\n",
    "        self.yas=yas\n",
    "        print(\"okul sınıfı çalıştı\")\n",
    "      \n",
    "    def info(self):\n",
    "        print(\"{} {}  {} yaşında . \".format(self.isim,self.soyisim,self.yas,self.maas,self.uzmanlık))\n",
    "class Ogretmen(Okul):\n",
    "    def __init__(self,isim,soyisim,yas,maas,uzmanlık):\n",
    "        super().__init__(isim,soyisim,yas)\n",
    "        self.maas=maas\n",
    "        self.uzmanlık=uzmanlık\n",
    "        print(\"Ogretmen sinifi calisti\")\n",
    "    def info(self):\n",
    "        print(\"{} {}  {} yaşında  maasi {} , uzmanlığı da {} tir. \".format(self.isim,self.soyisim,self.yas,self.maas,self.uzmanlık))    \n",
    "    "
   ]
  },
  {
   "cell_type": "code",
   "execution_count": 12,
   "id": "64f20472",
   "metadata": {},
   "outputs": [
    {
     "name": "stdout",
     "output_type": "stream",
     "text": [
      "okul sınıfı çalıştı\n"
     ]
    }
   ],
   "source": [
    "mehmet=Okul(\"Mehmet\",\"Yağız\",29)"
   ]
  },
  {
   "cell_type": "code",
   "execution_count": 14,
   "id": "c2bbdda6",
   "metadata": {},
   "outputs": [
    {
     "name": "stdout",
     "output_type": "stream",
     "text": [
      "okul sınıfı çalıştı\n",
      "Ogretmen sinifi calisti\n"
     ]
    }
   ],
   "source": [
    "zafer=Ogretmen(\"zafer\",\"yıldırım\",45,5000,\"Matematik\")"
   ]
  },
  {
   "cell_type": "markdown",
   "id": "9230a7bf",
   "metadata": {},
   "source": [
    "### Polymorphism(Çok biçimlilik)"
   ]
  },
  {
   "cell_type": "code",
   "execution_count": 33,
   "id": "3eb0073e",
   "metadata": {},
   "outputs": [],
   "source": [
    "class Okul:\n",
    "    def __init__(self,isim,soyisim,yas,maas):\n",
    "        self.isim=isim\n",
    "        self.soyisim=soyisim\n",
    "        self.yas=yas\n",
    "        self.maas=maas\n",
    "        print(\"okul sınıfı çalıştı\")\n",
    "      \n",
    "    def info(self):\n",
    "        print(\"{} {}  {} yaşında . \".format(self.isim,self.soyisim,self.yas,self.maas,self.uzmanlık))\n",
    "     \n",
    "    def zam(self):\n",
    "        return self.maas * 1.2\n",
    "        \n",
    "class Ogretmen(Okul):\n",
    "    def __init__(self,isim,soyisim,yas,maas,uzmanlık):\n",
    "        super().__init__(isim,soyisim,yas,maas)\n",
    "        self.uzmanlık=uzmanlık\n",
    "        print(\"Ogretmen sinifi calisti\")\n",
    "    def info(self):\n",
    "        print(\"{} {}  {} yaşında  maasi {} , uzmanlığı da {} tir. \".format(self.isim,self.soyisim,self.yas,self.maas,self.uzmanlık)) \n",
    "        \n",
    "    def zam(self):\n",
    "        return  self.maas * 1.5\n",
    "    "
   ]
  },
  {
   "cell_type": "code",
   "execution_count": 34,
   "id": "5f433101",
   "metadata": {},
   "outputs": [
    {
     "name": "stdout",
     "output_type": "stream",
     "text": [
      "okul sınıfı çalıştı\n"
     ]
    }
   ],
   "source": [
    "mehmet=Okul(\"Mehmet\",\"Yağız\",29,5000)"
   ]
  },
  {
   "cell_type": "code",
   "execution_count": 35,
   "id": "7a15a63f",
   "metadata": {},
   "outputs": [
    {
     "name": "stdout",
     "output_type": "stream",
     "text": [
      "okul sınıfı çalıştı\n",
      "Ogretmen sinifi calisti\n"
     ]
    }
   ],
   "source": [
    "zafer=Ogretmen(\"zafer\",\"yıldırım\",45,5000,\"Matematik\")"
   ]
  },
  {
   "cell_type": "code",
   "execution_count": 36,
   "id": "aae7619c",
   "metadata": {},
   "outputs": [
    {
     "data": {
      "text/plain": [
       "6000.0"
      ]
     },
     "execution_count": 36,
     "metadata": {},
     "output_type": "execute_result"
    }
   ],
   "source": [
    "mehmet.zam()"
   ]
  },
  {
   "cell_type": "code",
   "execution_count": 37,
   "id": "db971bdd",
   "metadata": {},
   "outputs": [
    {
     "data": {
      "text/plain": [
       "7500.0"
      ]
     },
     "execution_count": 37,
     "metadata": {},
     "output_type": "execute_result"
    }
   ],
   "source": [
    "zafer.zam()"
   ]
  },
  {
   "cell_type": "code",
   "execution_count": null,
   "id": "270e3f97",
   "metadata": {},
   "outputs": [],
   "source": []
  },
  {
   "cell_type": "code",
   "execution_count": null,
   "id": "6832be8d",
   "metadata": {},
   "outputs": [],
   "source": []
  },
  {
   "cell_type": "code",
   "execution_count": null,
   "id": "c2df8b62",
   "metadata": {},
   "outputs": [],
   "source": []
  },
  {
   "cell_type": "code",
   "execution_count": null,
   "id": "4245e0c0",
   "metadata": {},
   "outputs": [],
   "source": []
  },
  {
   "cell_type": "code",
   "execution_count": null,
   "id": "23d8d752",
   "metadata": {},
   "outputs": [],
   "source": []
  },
  {
   "cell_type": "code",
   "execution_count": null,
   "id": "16122f1b",
   "metadata": {},
   "outputs": [],
   "source": []
  },
  {
   "cell_type": "code",
   "execution_count": null,
   "id": "13690ad5",
   "metadata": {},
   "outputs": [],
   "source": []
  },
  {
   "cell_type": "code",
   "execution_count": null,
   "id": "d3942cc6",
   "metadata": {},
   "outputs": [],
   "source": []
  },
  {
   "cell_type": "code",
   "execution_count": null,
   "id": "b71ad4b2",
   "metadata": {},
   "outputs": [],
   "source": []
  },
  {
   "cell_type": "code",
   "execution_count": null,
   "id": "d6c9d093",
   "metadata": {},
   "outputs": [],
   "source": []
  },
  {
   "cell_type": "code",
   "execution_count": null,
   "id": "e70678db",
   "metadata": {},
   "outputs": [],
   "source": []
  },
  {
   "cell_type": "code",
   "execution_count": null,
   "id": "eaab1ae3",
   "metadata": {},
   "outputs": [],
   "source": []
  },
  {
   "cell_type": "code",
   "execution_count": null,
   "id": "43e05bbe",
   "metadata": {},
   "outputs": [],
   "source": []
  },
  {
   "cell_type": "code",
   "execution_count": null,
   "id": "eb9fc034",
   "metadata": {},
   "outputs": [],
   "source": []
  },
  {
   "cell_type": "code",
   "execution_count": null,
   "id": "b02bbcf4",
   "metadata": {},
   "outputs": [],
   "source": []
  }
 ],
 "metadata": {
  "kernelspec": {
   "display_name": "Python 3 (ipykernel)",
   "language": "python",
   "name": "python3"
  },
  "language_info": {
   "codemirror_mode": {
    "name": "ipython",
    "version": 3
   },
   "file_extension": ".py",
   "mimetype": "text/x-python",
   "name": "python",
   "nbconvert_exporter": "python",
   "pygments_lexer": "ipython3",
   "version": "3.9.7"
  }
 },
 "nbformat": 4,
 "nbformat_minor": 5
}
